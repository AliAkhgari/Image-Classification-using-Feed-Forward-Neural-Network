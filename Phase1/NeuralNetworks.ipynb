{
 "cells": [
  {
   "cell_type": "markdown",
   "metadata": {
    "ExecuteTime": {
     "end_time": "2021-12-24T07:43:21.971663Z",
     "start_time": "2021-12-24T07:43:21.966456Z"
    }
   },
   "source": [
    "$$\\huge \\text {Computer Assignment 4 - Neural Networks}$$"
   ]
  },
  {
   "cell_type": "markdown",
   "metadata": {},
   "source": [
    "$$\\large \\text {In this project, we want to build an image classification model using a Neural Network.}$$"
   ]
  },
  {
   "cell_type": "code",
   "execution_count": 1,
   "metadata": {
    "ExecuteTime": {
     "end_time": "2021-12-31T20:05:42.877562Z",
     "start_time": "2021-12-31T20:05:41.699770Z"
    }
   },
   "outputs": [],
   "source": [
    "import numpy as np\n",
    "import matplotlib.pyplot as plt\n",
    "import matplotlib.image as mpimg\n",
    "import pandas as pd\n",
    "from PIL import Image\n",
    "import copy\n",
    "import os\n",
    "from sklearn.model_selection import train_test_split\n",
    "import pickle"
   ]
  },
  {
   "cell_type": "markdown",
   "metadata": {},
   "source": [
    "***\n",
    "# Building the dataframe"
   ]
  },
  {
   "cell_type": "code",
   "execution_count": 2,
   "metadata": {
    "ExecuteTime": {
     "end_time": "2021-12-31T20:05:43.910926Z",
     "start_time": "2021-12-31T20:05:43.892306Z"
    }
   },
   "outputs": [
    {
     "data": {
      "text/html": [
       "<div>\n",
       "<style scoped>\n",
       "    .dataframe tbody tr th:only-of-type {\n",
       "        vertical-align: middle;\n",
       "    }\n",
       "\n",
       "    .dataframe tbody tr th {\n",
       "        vertical-align: top;\n",
       "    }\n",
       "\n",
       "    .dataframe thead th {\n",
       "        text-align: right;\n",
       "    }\n",
       "</style>\n",
       "<table border=\"1\" class=\"dataframe\">\n",
       "  <thead>\n",
       "    <tr style=\"text-align: right;\">\n",
       "      <th></th>\n",
       "      <th>label</th>\n",
       "      <th>img</th>\n",
       "    </tr>\n",
       "    <tr>\n",
       "      <th>id</th>\n",
       "      <th></th>\n",
       "      <th></th>\n",
       "    </tr>\n",
       "  </thead>\n",
       "  <tbody>\n",
       "    <tr>\n",
       "      <th>8</th>\n",
       "      <td>horse</td>\n",
       "      <td>None</td>\n",
       "    </tr>\n",
       "    <tr>\n",
       "      <th>10</th>\n",
       "      <td>cat</td>\n",
       "      <td>None</td>\n",
       "    </tr>\n",
       "    <tr>\n",
       "      <th>12</th>\n",
       "      <td>horse</td>\n",
       "      <td>None</td>\n",
       "    </tr>\n",
       "    <tr>\n",
       "      <th>13</th>\n",
       "      <td>horse</td>\n",
       "      <td>None</td>\n",
       "    </tr>\n",
       "    <tr>\n",
       "      <th>18</th>\n",
       "      <td>cat</td>\n",
       "      <td>None</td>\n",
       "    </tr>\n",
       "  </tbody>\n",
       "</table>\n",
       "</div>"
      ],
      "text/plain": [
       "    label   img\n",
       "id             \n",
       "8   horse  None\n",
       "10    cat  None\n",
       "12  horse  None\n",
       "13  horse  None\n",
       "18    cat  None"
      ]
     },
     "execution_count": 2,
     "metadata": {},
     "output_type": "execute_result"
    }
   ],
   "source": [
    "df = pd.read_csv(\"cifar_dataset/labels.csv\", index_col='id')\n",
    "df['img'] = None\n",
    "df.head()"
   ]
  },
  {
   "cell_type": "code",
   "execution_count": 3,
   "metadata": {
    "ExecuteTime": {
     "end_time": "2021-12-31T20:05:49.753545Z",
     "start_time": "2021-12-31T20:05:45.882984Z"
    }
   },
   "outputs": [
    {
     "data": {
      "text/html": [
       "<div>\n",
       "<style scoped>\n",
       "    .dataframe tbody tr th:only-of-type {\n",
       "        vertical-align: middle;\n",
       "    }\n",
       "\n",
       "    .dataframe tbody tr th {\n",
       "        vertical-align: top;\n",
       "    }\n",
       "\n",
       "    .dataframe thead th {\n",
       "        text-align: right;\n",
       "    }\n",
       "</style>\n",
       "<table border=\"1\" class=\"dataframe\">\n",
       "  <thead>\n",
       "    <tr style=\"text-align: right;\">\n",
       "      <th></th>\n",
       "      <th>label</th>\n",
       "      <th>img</th>\n",
       "    </tr>\n",
       "    <tr>\n",
       "      <th>id</th>\n",
       "      <th></th>\n",
       "      <th></th>\n",
       "    </tr>\n",
       "  </thead>\n",
       "  <tbody>\n",
       "    <tr>\n",
       "      <th>8</th>\n",
       "      <td>horse</td>\n",
       "      <td>[[33, 34, 41, 75, 76, 43, 42, 56, 70, 77, 102,...</td>\n",
       "    </tr>\n",
       "    <tr>\n",
       "      <th>10</th>\n",
       "      <td>cat</td>\n",
       "      <td>[[124, 103, 93, 99, 101, 136, 171, 170, 143, 9...</td>\n",
       "    </tr>\n",
       "    <tr>\n",
       "      <th>12</th>\n",
       "      <td>horse</td>\n",
       "      <td>[[147, 171, 169, 173, 201, 212, 196, 135, 119,...</td>\n",
       "    </tr>\n",
       "    <tr>\n",
       "      <th>13</th>\n",
       "      <td>horse</td>\n",
       "      <td>[[203, 200, 200, 201, 201, 201, 202, 202, 202,...</td>\n",
       "    </tr>\n",
       "    <tr>\n",
       "      <th>18</th>\n",
       "      <td>cat</td>\n",
       "      <td>[[105, 135, 145, 130, 82, 55, 48, 52, 52, 53, ...</td>\n",
       "    </tr>\n",
       "  </tbody>\n",
       "</table>\n",
       "</div>"
      ],
      "text/plain": [
       "    label                                                img\n",
       "id                                                          \n",
       "8   horse  [[33, 34, 41, 75, 76, 43, 42, 56, 70, 77, 102,...\n",
       "10    cat  [[124, 103, 93, 99, 101, 136, 171, 170, 143, 9...\n",
       "12  horse  [[147, 171, 169, 173, 201, 212, 196, 135, 119,...\n",
       "13  horse  [[203, 200, 200, 201, 201, 201, 202, 202, 202,...\n",
       "18    cat  [[105, 135, 145, 130, 82, 55, 48, 52, 52, 53, ..."
      ]
     },
     "execution_count": 3,
     "metadata": {},
     "output_type": "execute_result"
    }
   ],
   "source": [
    "path = \"cifar_dataset/data/\"\n",
    "img_ids = os.listdir(path)\n",
    "for i in range(len(img_ids)):\n",
    "    img_ids[i] = img_ids[i].removesuffix('.png')\n",
    "for img_id in img_ids:\n",
    "    img = Image.open(f'{path}/{img_id}.png')\n",
    "    imgGray = img.convert('L')\n",
    "    numpydata = np.asarray(imgGray)\n",
    "    df.loc[int(img_id)].img = numpydata\n",
    "    \n",
    "df.head()"
   ]
  },
  {
   "cell_type": "markdown",
   "metadata": {},
   "source": [
    "***\n",
    "# Part One: Pre-processing"
   ]
  },
  {
   "cell_type": "markdown",
   "metadata": {},
   "source": [
    "## test-train split"
   ]
  },
  {
   "cell_type": "code",
   "execution_count": 4,
   "metadata": {
    "ExecuteTime": {
     "end_time": "2021-12-31T20:05:49.979521Z",
     "start_time": "2021-12-31T20:05:49.972869Z"
    }
   },
   "outputs": [],
   "source": [
    "X_train, X_test, y_train, y_test = train_test_split(df.drop(columns=['label']), df['label'], test_size=0.2)"
   ]
  },
  {
   "cell_type": "markdown",
   "metadata": {},
   "source": [
    "## Random image from the training data"
   ]
  },
  {
   "cell_type": "code",
   "execution_count": 5,
   "metadata": {
    "ExecuteTime": {
     "end_time": "2021-12-31T20:05:52.692187Z",
     "start_time": "2021-12-31T20:05:52.558324Z"
    },
    "scrolled": true
   },
   "outputs": [
    {
     "data": {
      "image/png": "[encoded data removed]",
      "text/plain": [
       "<Figure size 432x288 with 1 Axes>"
      ]
     },
     "metadata": {
      "needs_background": "light"
     },
     "output_type": "display_data"
    }
   ],
   "source": [
    "sample = copy.deepcopy(X_train.sample().img)\n",
    "sample = sample.values.item()\n",
    "imgplot = plt.imshow(sample, cmap=plt.get_cmap('gray'))"
   ]
  },
  {
   "cell_type": "markdown",
   "metadata": {},
   "source": [
    "### The values of each pixel is between 0 and 255"
   ]
  },
  {
   "cell_type": "markdown",
   "metadata": {},
   "source": [
    "## Random image from each class of the training data"
   ]
  },
  {
   "cell_type": "code",
   "execution_count": 6,
   "metadata": {
    "ExecuteTime": {
     "end_time": "2021-12-31T20:05:55.651587Z",
     "start_time": "2021-12-31T20:05:55.417476Z"
    }
   },
   "outputs": [
    {
     "data": {
      "image/png": "[encoded data removed]",
      "text/plain": [
       "<Figure size 432x288 with 1 Axes>"
      ]
     },
     "metadata": {
      "needs_background": "light"
     },
     "output_type": "display_data"
    },
    {
     "data": {
      "image/png": "[encoded data removed]",
      "text/plain": [
       "<Figure size 432x288 with 1 Axes>"
      ]
     },
     "metadata": {
      "needs_background": "light"
     },
     "output_type": "display_data"
    }
   ],
   "source": [
    "horse_sample_id = y_train[y_train == 'horse'].sample().index\n",
    "cat_sample_id = y_train[y_train == 'cat'].sample().index\n",
    "horse_sample = copy.deepcopy(X_train.loc[horse_sample_id].img)\n",
    "cat_sample = copy.deepcopy(X_train.loc[cat_sample_id].img)\n",
    "horse_sample = horse_sample.values.item()\n",
    "cat_sample = cat_sample.values.item()\n",
    "plt.imshow(horse_sample, cmap=plt.get_cmap('gray'))\n",
    "plt.title(\"Horse\", fontsize=16)\n",
    "plt.show()\n",
    "plt.imshow(cat_sample, cmap=plt.get_cmap('gray'))\n",
    "plt.title(\"Cat\", fontsize=16)\n",
    "plt.show()"
   ]
  },
  {
   "cell_type": "markdown",
   "metadata": {},
   "source": [
    "## The number of images in each class"
   ]
  },
  {
   "cell_type": "code",
   "execution_count": 7,
   "metadata": {
    "ExecuteTime": {
     "end_time": "2021-12-31T20:05:57.641509Z",
     "start_time": "2021-12-31T20:05:57.631893Z"
    }
   },
   "outputs": [
    {
     "name": "stdout",
     "output_type": "stream",
     "text": [
      "Train:  {'Horse': 4000, 'Cat': 4000}\n",
      "Test:  {'Horse': 1000, 'Cat': 1000}\n"
     ]
    }
   ],
   "source": [
    "train_horse_no = y_train[y_train == 'horse'].shape[0]\n",
    "train_cat_no = y_train[y_train == 'cat'].shape[0]\n",
    "\n",
    "test_horse_no = y_test[y_test == 'horse'].shape[0]\n",
    "test_cat_no = y_test[y_test == 'cat'].shape[0]\n",
    "\n",
    "train_data = {\n",
    "    'Horse' : train_horse_no,\n",
    "    'Cat' : train_cat_no\n",
    "}\n",
    "test_data = {\n",
    "    'Horse' : test_horse_no,\n",
    "    'Cat' : test_cat_no\n",
    "}\n",
    "\n",
    "print('Train: ', train_data)\n",
    "print('Test: ', test_data)"
   ]
  },
  {
   "cell_type": "code",
   "execution_count": 8,
   "metadata": {
    "ExecuteTime": {
     "end_time": "2021-12-31T20:06:00.231010Z",
     "start_time": "2021-12-31T20:05:59.994656Z"
    }
   },
   "outputs": [
    {
     "data": {
      "image/png": "[encoded data removed]",
      "text/plain": [
       "<Figure size 504x504 with 2 Axes>"
      ]
     },
     "metadata": {},
     "output_type": "display_data"
    }
   ],
   "source": [
    "plt.style.use('seaborn')\n",
    "fig, axes = plt.subplots(nrows=1, ncols=2, sharey=True, figsize=(7, 7))\n",
    "\n",
    "y_train.value_counts().plot(ax=axes[0], kind='bar', fontsize=16)\n",
    "y_test.value_counts().plot(ax=axes[1], kind='bar', fontsize=16)\n",
    "\n",
    "axes[0].set_title(\"Train\", fontsize=18)\n",
    "axes[1].set_title(\"Test\", fontsize=18)\n",
    "\n",
    "plt.tight_layout()\n",
    "plt.show()"
   ]
  },
  {
   "cell_type": "code",
   "execution_count": 9,
   "metadata": {
    "ExecuteTime": {
     "end_time": "2021-12-31T20:06:07.195163Z",
     "start_time": "2021-12-31T20:06:02.572988Z"
    }
   },
   "outputs": [],
   "source": [
    "for index, row in df.iterrows():\n",
    "    arr = df.loc[index].img\n",
    "    arr = np.array(arr)\n",
    "    arr = arr.reshape(1024, -1)\n",
    "    flat_arr = []\n",
    "    for i in arr:\n",
    "        flat_arr.append(i.item())\n",
    "    df.loc[index].img = flat_arr"
   ]
  },
  {
   "cell_type": "code",
   "execution_count": 10,
   "metadata": {
    "ExecuteTime": {
     "end_time": "2021-12-31T20:06:10.542661Z",
     "start_time": "2021-12-31T20:06:07.628743Z"
    }
   },
   "outputs": [],
   "source": [
    "cols = np.arange(0, 1024, 1)\n",
    "data = pd.DataFrame(df['img'].to_list(), columns=cols, index=df.index)\n",
    "data['label'] = df['label']"
   ]
  },
  {
   "cell_type": "code",
   "execution_count": 11,
   "metadata": {
    "ExecuteTime": {
     "end_time": "2021-12-31T20:06:13.920174Z",
     "start_time": "2021-12-31T20:06:13.807599Z"
    }
   },
   "outputs": [],
   "source": [
    "X_train, X_test, y_train, y_test = train_test_split(data.drop(columns=['label']), data['label'], test_size=0.2)"
   ]
  },
  {
   "cell_type": "code",
   "execution_count": null,
   "metadata": {
    "ExecuteTime": {
     "end_time": "2021-12-31T20:06:11.325226Z",
     "start_time": "2021-12-31T20:06:11.325212Z"
    }
   },
   "outputs": [],
   "source": [
    "with (open(\"X_test\", \"rb\")) as openfile:\n",
    "    while True:\n",
    "        try:\n",
    "            X_test = pickle.load(openfile)\n",
    "        except EOFError:\n",
    "            break\n",
    "with (open(\"y_test\", \"rb\")) as openfile:\n",
    "    while True:\n",
    "        try:\n",
    "            y_test = pickle.load(openfile)\n",
    "        except EOFError:\n",
    "            break"
   ]
  },
  {
   "cell_type": "code",
   "execution_count": 3,
   "metadata": {
    "ExecuteTime": {
     "end_time": "2021-12-31T08:33:02.489150Z",
     "start_time": "2021-12-31T08:33:02.428731Z"
    }
   },
   "outputs": [],
   "source": [
    "with (open(\"X_train\", \"rb\")) as openfile:\n",
    "    while True:\n",
    "        try:\n",
    "            X_train = pickle.load(openfile)\n",
    "        except EOFError:\n",
    "            break\n",
    "            \n",
    "with (open(\"y_train\", \"rb\")) as openfile:\n",
    "    while True:\n",
    "        try:\n",
    "            y_train = pickle.load(openfile)\n",
    "        except EOFError:\n",
    "            break"
   ]
  },
  {
   "cell_type": "markdown",
   "metadata": {},
   "source": [
    "## Minimax Scaler"
   ]
  },
  {
   "cell_type": "code",
   "execution_count": 12,
   "metadata": {
    "ExecuteTime": {
     "end_time": "2021-12-31T20:06:22.271730Z",
     "start_time": "2021-12-31T20:06:22.267951Z"
    }
   },
   "outputs": [],
   "source": [
    "def normalize(data):\n",
    "    result = data.copy()\n",
    "    for feature_name in data.columns:\n",
    "        max_value = data[feature_name].max()\n",
    "        min_value = data[feature_name].min()\n",
    "        result[feature_name] = (data[feature_name] - min_value) / (max_value - min_value)\n",
    "    return result"
   ]
  },
  {
   "cell_type": "code",
   "execution_count": 13,
   "metadata": {
    "ExecuteTime": {
     "end_time": "2021-12-31T20:06:33.646212Z",
     "start_time": "2021-12-31T20:06:22.883754Z"
    }
   },
   "outputs": [],
   "source": [
    "X_train = normalize(X_train)\n",
    "X_test = normalize(X_test)"
   ]
  },
  {
   "cell_type": "code",
   "execution_count": 26,
   "metadata": {
    "ExecuteTime": {
     "end_time": "2021-12-31T19:34:50.045257Z",
     "start_time": "2021-12-31T19:34:49.652177Z"
    }
   },
   "outputs": [],
   "source": [
    "X_train.to_pickle('X_train')\n",
    "X_test.to_pickle('X_test')\n",
    "y_train.to_pickle('y_train')\n",
    "y_test.to_pickle('y_test')"
   ]
  },
  {
   "cell_type": "markdown",
   "metadata": {},
   "source": [
    "### What happen if we don't normalize the values of each pixel?\n",
    "Data normalization is an important step which ensures that each input parameter (pixel, in this case) has a similar data distribution. This makes convergence faster while training the network."
   ]
  },
  {
   "cell_type": "markdown",
   "metadata": {},
   "source": [
    "***\n",
    "# Part Two: Neural Network\n",
    "## Dataloader"
   ]
  },
  {
   "cell_type": "code",
   "execution_count": 14,
   "metadata": {
    "ExecuteTime": {
     "end_time": "2021-12-31T20:06:35.478998Z",
     "start_time": "2021-12-31T20:06:35.467361Z"
    }
   },
   "outputs": [],
   "source": [
    "class Dataloader:\n",
    "    '''\n",
    "    This class prepares the dataset for the neural network.\n",
    "    '''\n",
    "    \n",
    "    def __init__(self, data, labels, n_classes, batch_size=None, shuffle=False):\n",
    "        '''\n",
    "        This is the constructor. It gets dataset information and initializes the \n",
    "        Dataloader class fields.\n",
    "            Parameters:\n",
    "                data: features your dataset in pandas.Dataframe format.\n",
    "                labels: labels of your dataset in pandas.Dataframe format.\n",
    "                n_classes: number of classes you have in your dataset.\n",
    "                batch_size: the number of samples that will be propagated through the network.\n",
    "                shuffle: boolean value indicating whether or not the dataset should be shuffled\n",
    "        '''\n",
    "\n",
    "        assert len(data)==len(labels)\n",
    "        self.__n_classes = n_classes\n",
    "        self.__batch_size = batch_size\n",
    "        self.__shuffle = shuffle\n",
    "        self.__data = data\n",
    "        self.__onehot_labels = self.__onehot(labels, self.__n_classes)\n",
    "    \n",
    "    def __onehot(self, labels, n_classes):\n",
    "        '''\n",
    "        This private method gets labels and provides one_hot vectors of labels.\n",
    "        For categorical variables where no such ordinal relationship exists,\n",
    "        the integer encoding is not enough.\n",
    "        In this case, a one-hot encoding can be applied to the integer representation.\n",
    "        This is where the integer encoded variable is removed, and a new binary variable is\n",
    "        added for each unique integer value.\n",
    "        example:\n",
    "            red,    green,    blue\n",
    "            1,      0,        0\n",
    "            0,      1,        0\n",
    "            0,      0,        1\n",
    "                Parameters:\n",
    "                        label: lables of your dataset in pandas.Dataframe format.\n",
    "                        n_classes: number of classes you have in your dataset.\n",
    "                \n",
    "                Returns:\n",
    "                    onehot_vectors: onehot vectors of the labels\n",
    "        '''\n",
    "        # TODO: Implement\n",
    "        col_name = labels.columns[0]\n",
    "        onehot_vectors = copy.deepcopy(labels)\n",
    "        for label in labels[col_name].unique():\n",
    "            onehot_vectors[label] = 0\n",
    "        for index, row in onehot_vectors.iterrows():\n",
    "            onehot_vectors.at[index, row[col_name]] = 1\n",
    "        onehot_vectors = onehot_vectors.drop(columns='label')\n",
    "        return onehot_vectors\n",
    "    \n",
    "    def __shuffle_dataset(self):\n",
    "        '''\n",
    "        This private method shuffles your dataset.\n",
    "        It uses data and onehot_labels to shuffle them\n",
    "        symmetrical.\n",
    "        '''\n",
    "        # TODO: Implement\n",
    "        self.__data = self.__data.reindex(np.random.permutation(self.__data.index))\n",
    "        self.__onehot_labels = self.__onehot_labels.reindex(self.__data.index)\n",
    "    \n",
    "    def __iter__(self):\n",
    "        '''\n",
    "        The __iter__() function returns an iterator for the\n",
    "        given object (array, set, tuple, etc., or custom objects).\n",
    "        This will return your dataset in the batch_size given. This should\n",
    "        be used to provide data for the neural network.\n",
    "        '''\n",
    "        if self.__shuffle:\n",
    "            self.__shuffle_dataset()\n",
    "            \n",
    "        if self.__batch_size==None:\n",
    "            yield (np.matrix(self.__data, dtype=float), np.matrix(self.onehot_labels, dtype=float))\n",
    "            return\n",
    "            \n",
    "        for idx in range(0, len(self.__data), self.__batch_size):\n",
    "            yield (np.matrix(self.__data[idx:idx+self.__batch_size], dtype=float), \n",
    "                   np.matrix(self.__onehot_labels[idx:idx+self.__batch_size], dtype=float))"
   ]
  },
  {
   "cell_type": "markdown",
   "metadata": {},
   "source": [
    "## Activation Functions"
   ]
  },
  {
   "cell_type": "code",
   "execution_count": 39,
   "metadata": {
    "ExecuteTime": {
     "end_time": "2021-12-31T20:30:51.497444Z",
     "start_time": "2021-12-31T20:30:51.475443Z"
    }
   },
   "outputs": [],
   "source": [
    "class Identical:\n",
    "    '''\n",
    "    This is the Identical activation function. This activation function just\n",
    "    return the value it gets.\n",
    "    '''\n",
    "    \n",
    "    def __init__(self): \n",
    "        pass\n",
    "        '''\n",
    "        This is the constructor. It does not have any fields\n",
    "        as a result, there is no need to do anything in the constructor.\n",
    "        '''\n",
    "    \n",
    "    def __val(self, matrix):\n",
    "        '''\n",
    "        This private method gets a matrix and uses the activity function on that.\n",
    "        As this is an identical activity function, it just \n",
    "        returns np.matrix of the input.\n",
    "        \n",
    "            Parameters:\n",
    "                matrix: np.matrix of values\n",
    "            Returns:\n",
    "                identical_value: np.matrix of input with float datatypes\n",
    "        '''\n",
    "        identical_value = np.matrix(matrix, dtype=float)\n",
    "        return identical_value\n",
    "\n",
    "    def derivative(self, matrix):\n",
    "        '''\n",
    "        This method returns the derivation of the input.\n",
    "        As the derivation of x is one, this method returns\n",
    "        a matrix of one with the shape of the input matrix.\n",
    "        \n",
    "            Parameters:\n",
    "                matrix: np.matrix of values\n",
    "            Returns:\n",
    "                identical_derivative: np.matrix of ones with matrix shape\n",
    "        '''\n",
    "        temp = np.matrix(matrix, dtype=float)\n",
    "        identical_derivative = np.matrix(np.full(np.shape(temp), 1.))\n",
    "        return identical_derivative\n",
    "    \n",
    "    def __call__(self, matrix):\n",
    "        '''\n",
    "        __call__ is a special function in Python that, when implemented inside a class,\n",
    "        gives its instances (objects) the ability to behave like a function.\n",
    "        Here we return the _value method output.\n",
    "            \n",
    "            Parameters:\n",
    "                matrix: np.matrix of values\n",
    "            Returns:\n",
    "                __val(matrix): __val return value for the input matrix\n",
    "        '''\n",
    "        return self.__val(matrix)\n",
    "    \n",
    "\n",
    "class Relu:\n",
    "    '''\n",
    "    This is the Relu activation function. \n",
    "    The rectified linear activation function or ReLU for short\n",
    "    is a piecewise linear function that will output the input directly\n",
    "    if it is positive, otherwise, it will output zero.\n",
    "    '''\n",
    "    \n",
    "    def __init__(self): \n",
    "        pass\n",
    "        '''\n",
    "        This is the constructor. It does not have any fields\n",
    "        as a result, there is no need to do anything in the constructor.\n",
    "        '''\n",
    "    \n",
    "    def __val(self, matrix):\n",
    "        '''\n",
    "        This private method gets a matrix and uses the activity function on that.\n",
    "        It will set 0 in the matrix if the value is less than 0 else, it returns the value itself.\n",
    "        \n",
    "            Parameters:\n",
    "                matrix: np.matrix of values\n",
    "            Returns:\n",
    "                relu_value: np.matrix of relu activation function result\n",
    "        '''\n",
    "        # TODO: Implement\n",
    "        arr = np.asarray(matrix, dtype=float)\n",
    "        relu_value = arr * (arr > 0)\n",
    "        relu_value = np.matrix(relu_value, dtype=float)\n",
    "        return relu_value\n",
    "\n",
    "    def derivative(self, matrix):\n",
    "        '''\n",
    "        Returns the derivation value of relu function on input matrix.\n",
    "        \n",
    "            Parameters:\n",
    "                matrix: np.matrix of values\n",
    "            Returns:\n",
    "                relu_derivative: np.matrix of relu activation function derivation result\n",
    "        '''\n",
    "        # TODO: Implement\n",
    "        arr = np.asarray(matrix, dtype=float)\n",
    "        arr = np.where(arr > 0, 1, 0)\n",
    "        relu_derivative = np.matrix(arr, dtype=float)\n",
    "        return relu_derivative\n",
    "        \n",
    "    \n",
    "    def __call__(self, matrix):\n",
    "        '''\n",
    "        __call__ is a special function in Python that, when implemented inside a class,\n",
    "        gives its instances (objects) the ability to behave like a function.\n",
    "        Here we return the _relu method output.\n",
    "            \n",
    "            Parameters:\n",
    "                matrix: np.matrix of values\n",
    "            Returns:\n",
    "                __relu(matrix): __relu return value for the input matrix\n",
    "        '''\n",
    "        return self.__val(matrix)\n",
    "\n",
    "    \n",
    "class LeakyRelu:\n",
    "    '''\n",
    "    This is the Leaky Relu activation function. \n",
    "    Leaky Rectified Linear Unit, or Leaky ReLU,\n",
    "    is a type of activation function based on a ReLU,\n",
    "    but it has a small slope for negative values instead\n",
    "    of a flat slope.\n",
    "    '''\n",
    "    \n",
    "    def __init__(self, negative_slope=0.01):\n",
    "        '''\n",
    "        This is the constructor.\n",
    "        It sets negative_slope field.\n",
    "            Parameters:\n",
    "                negative_slope: slope for negative input values\n",
    "        '''\n",
    "        self.negative_slope = 0.01\n",
    "    \n",
    "    def __val(self, matrix):\n",
    "        '''\n",
    "        This private method gets a matrix and uses the activity function on that.\n",
    "        It will set negative_slope*value in the matrix if the value is less than 0, else it\n",
    "        returns the value itself.\n",
    "        \n",
    "            Parameters:\n",
    "                matrix: np.matrix of values\n",
    "            Returns:\n",
    "                relu_value: np.matrix of relu activation function result\n",
    "        '''\n",
    "        # TODO: Implement\n",
    "        arr = np.asarray(matrix, dtype=float)\n",
    "        leacky_relu_value = np.where(arr > 0, arr, arr * 0.01)\n",
    "        leacky_relu_value = np.matrix(leacky_relu_value, dtype=float)\n",
    "        return leacky_relu_value\n",
    "    \n",
    "    def derivative(self, matrix):\n",
    "        '''\n",
    "        Returns the derivation value of leaky relu function on input matrix.\n",
    "        \n",
    "            Parameters:\n",
    "                matrix: np.matrix of values\n",
    "            Returns:\n",
    "                leacky_relu_derivative: np.matrix of leaky relu activation function derivation result\n",
    "        '''\n",
    "        # TODO: Implement\n",
    "        arr = np.asarray(matrix, dtype=float)\n",
    "        arr = np.where(arr > 0, 1, self.negative_slope)\n",
    "        leacky_relu_derivative = np.matrix(arr, dtype=float)\n",
    "        return leacky_relu_derivative\n",
    "        \n",
    "    def __call__(self, matrix):\n",
    "        '''\n",
    "        __call__ is a special function in Python that, when implemented inside a class,\n",
    "        gives its instances (objects) the ability to behave like a function.\n",
    "        Here we return the _val method output.\n",
    "            \n",
    "            Parameters:\n",
    "                matrix: np.matrix of values\n",
    "            Returns:\n",
    "                __val(matrix): __val return value for the input matrix\n",
    "        '''\n",
    "        return self.__val(matrix)\n",
    "\n",
    "    \n",
    "class Sigmoid:\n",
    "    '''\n",
    "    A sigmoid function is a mathematical function having a\n",
    "    characteristic \"S\"-shaped curve or sigmoid curve.\n",
    "    It return S(x)=1/(1+e^-x)\n",
    "    '''\n",
    "    def __init__(self): \n",
    "        pass\n",
    "\n",
    "    def __val(self, matrix):\n",
    "        '''\n",
    "        Returns 1/(1+e^-x) of values\n",
    "        \n",
    "            Parameters:\n",
    "                matrix: np.matrix of values\n",
    "            Returns:\n",
    "                sigmoid_value: np.matrix of relu activation function result\n",
    "        '''\n",
    "        # TODO: Implement\n",
    "        arr = np.asarray(matrix, dtype=float)\n",
    "        sigmoid_value = 1 / (1 + np.exp(-arr))\n",
    "        sigmoid_value = np.matrix(sigmoid_value, dtype=float)\n",
    "        return sigmoid_value\n",
    "\n",
    "    def derivative(self, matrix):\n",
    "        '''\n",
    "        Returns the derivation value of sigmoid function on input matrix.\n",
    "        \n",
    "            Parameters:\n",
    "                matrix: np.matrix of values\n",
    "            Returns:\n",
    "                sigmoid_derivative: np.matrix of sigmoid activation function derivation result\n",
    "        '''\n",
    "        # TODO: Implement\n",
    "        sigmoid_value = self.__val(matrix)\n",
    "        sigmoid_value = np.asarray(sigmoid_value, dtype=float)\n",
    "        sigmoid_derivative = sigmoid_value * (1 - sigmoid_value)\n",
    "        sigmoid_derivative = np.matrix(sigmoid_derivative, dtype=float)\n",
    "        return sigmoid_derivative\n",
    "    \n",
    "    def __call__(self, matrix):\n",
    "        '''\n",
    "        __call__ is a special function in Python that, when implemented inside a class,\n",
    "        gives its instances (objects) the ability to behave like a function.\n",
    "        Here we return the _val method output.\n",
    "            \n",
    "            Parameters:\n",
    "                matrix: np.matrix of values\n",
    "            Returns:\n",
    "                __val(matrix): __val return value for the input matrix\n",
    "        '''\n",
    "        return self.__val(matrix)\n",
    "\n",
    "\n",
    "class Softmax:\n",
    "    '''\n",
    "    The softmax function, also known as softargmax  or normalized\n",
    "    exponential function is a generalization of the logistic\n",
    "    function to multiple dimensions. It is used in multinomial logistic\n",
    "    regression and is often used as the last activation function of a neural\n",
    "    network to normalize the output of a network to a probability distribution\n",
    "    over predicted output classes, based on Luce's choice axiom.\n",
    "    Softmax return (e^x_i / (Σe^x_j for j = 1, ..., J))\n",
    "    '''\n",
    "        \n",
    "    def __init__(self): \n",
    "        pass\n",
    "        '''\n",
    "        This is the constructor. It does not have any fields\n",
    "        as a result, there is no need to do anything in the constructor.\n",
    "        '''\n",
    "\n",
    "    def __val(self, matrix):\n",
    "        '''\n",
    "        This private method gets a matrix and uses the softmax on that.\n",
    "        Softmax return (e^x_i / (Σe^x_j for j = 1, ..., J))\n",
    "        \n",
    "            Parameters:\n",
    "                matrix: np.matrix of values\n",
    "            Returns:\n",
    "                relu_value: np.matrix of relu activation function result\n",
    "        '''\n",
    "        # TODO: Implement\n",
    "        softmax_value = np.zeros(matrix.shape, dtype=float)\n",
    "        for i in range(len(matrix)):\n",
    "            softmax_value[i] = np.exp(matrix[i] - np.max(matrix[i]))\n",
    "            softmax_value[i] = softmax_value[i] / np.sum(softmax_value[i])\n",
    "        return softmax_value\n",
    "    \n",
    "    def __call__(self, matrix):\n",
    "        '''\n",
    "        __call__ is a special function in Python that, when implemented inside a class,\n",
    "        gives its instances (objects) the ability to behave like a function.\n",
    "        Here we return the _val method output.\n",
    "            \n",
    "            Parameters:\n",
    "                matrix: np.matrix of values\n",
    "            Returns:\n",
    "                __val(matrix): __val return value for the input matrix\n",
    "        '''\n",
    "        return self.__val(matrix)\n",
    "    \n",
    "class Tanh:\n",
    "    \n",
    "    def __init__(self): \n",
    "        pass\n",
    "        '''\n",
    "        This is the constructor. It does not have any fields\n",
    "        as a result, there is no need to do anything in the constructor.\n",
    "        '''\n",
    "\n",
    "    def __val(self, matrix):\n",
    "        '''\n",
    "        This private method gets a matrix and uses the activity function on that.\n",
    "        It performs Tanh on the values.\n",
    "        \n",
    "            Parameters:\n",
    "                matrix: np.matrix of values\n",
    "            Returns:\n",
    "                tanh_value: np.matrix of Tanh activation function result\n",
    "        '''\n",
    "        # TODO: Implement\n",
    "        arr = np.asarray(matrix, dtype=float)\n",
    "        tanh_value = (np.exp(arr)-np.exp(-arr))/(np.exp(arr)+np.exp(-arr))\n",
    "        tanh_value = np.matrix(tanh_value, dtype=float)\n",
    "        return tanh_value\n",
    "\n",
    "    def derivative(self, matrix):\n",
    "        '''\n",
    "        Returns the derivation value of Tanh function on input matrix.\n",
    "        \n",
    "            Parameters:\n",
    "                matrix: np.matrix of values\n",
    "            Returns:\n",
    "                sigmoid_derivative: np.matrix of Tanh activation function derivation result\n",
    "        '''\n",
    "        # TODO: Implement\n",
    "        tanh_value = self.__val(matrix)\n",
    "        tanh_value = np.asarray(tanh_value)\n",
    "        tanh_derivative = 1 - tanh_value**2\n",
    "        tanh_derivative = np.matrix(tanh_derivative, dtype=float)\n",
    "        return tanh_derivative\n",
    "    \n",
    "    def __call__(self, matrix):\n",
    "        '''\n",
    "        __call__ is a special function in Python that, when implemented inside a class,\n",
    "        gives its instances (objects) the ability to behave like a function.\n",
    "        Here we return the _val method output.\n",
    "            \n",
    "            Parameters:\n",
    "                matrix: np.matrix of values\n",
    "            Returns:\n",
    "                __val(matrix): __val return value for the input matrix\n",
    "        '''\n",
    "        return self.__val(matrix)"
   ]
  },
  {
   "cell_type": "markdown",
   "metadata": {},
   "source": [
    "## Loss Function"
   ]
  },
  {
   "cell_type": "code",
   "execution_count": 52,
   "metadata": {
    "ExecuteTime": {
     "end_time": "2021-12-31T21:26:04.347635Z",
     "start_time": "2021-12-31T21:26:04.340414Z"
    }
   },
   "outputs": [],
   "source": [
    "class CrossEntropy: #(with softmax)\n",
    "    '''\n",
    "    Cross-entropy is a measure of the difference between two probability\n",
    "    distributions for a given random variable or set of events. You might\n",
    "    recall that information quantifies the number of bits required to encode\n",
    "    and transmit an event.\n",
    "    The above image can help you.\n",
    "    '''\n",
    "    def __init__(self): \n",
    "        self.epsilon = 1e-12\n",
    "        '''\n",
    "        This is the constructor. It does not have any fields\n",
    "        as a result, there is no need to do anything in the constructor.\n",
    "        '''\n",
    "\n",
    "    def __val(self, true_val, expected_val):\n",
    "        '''\n",
    "        L(y^, y) = - Σ (y^(k)log (y^)^(k)) for k in K\n",
    "        Parameters:\n",
    "            true_val: calculated values (generated by neural network)\n",
    "            expected_val: real values in dataset\n",
    "        Returns:\n",
    "            cross_entropy_value: cross entropy of inputs\n",
    "        '''\n",
    "        assert np.shape(true_val)==np.shape(expected_val)\n",
    "        # TODO: Implement\n",
    "        softmax = Softmax()\n",
    "#         true_val = np.matrix(true_val, dtype=float)\n",
    "#         softmax_values = softmax(true_val)\n",
    "# #         print(softmax_values)\n",
    "#         cross_entropy_value = 0\n",
    "#         for x, y in zip(softmax_values, expected_val):\n",
    "#             for i, j in zip(x, y):\n",
    "#                 if i == 0:\n",
    "#                     i = self.epsilon\n",
    "#                 cross_entropy_value += -j * np.log2(i)\n",
    "# #         print(np.sum(cross_entropy_value))\n",
    "#         return cross_entropy_value\n",
    "\n",
    "        softmax = Softmax()\n",
    "        softmax_values = np.clip(softmax(true_val), self.epsilon, 1 - self.epsilon)\n",
    "        cross_entropy_value = np.sum(np.multiply(-expected_val, np.log(softmax_values)))\n",
    "        return np.sum(cross_entropy_value)\n",
    "        \n",
    "    def derivative(self, true_val, expected_val):\n",
    "        '''\n",
    "        Returns derivation of cross entropy.\n",
    "            Parameters:\n",
    "                true_val: calculated values (generated by neural network)\n",
    "                expected_val: real values in dataset\n",
    "            Returns:\n",
    "                cross_entropy_derivative: cross entropy derivation of inputs\n",
    "        '''\n",
    "        assert np.shape(true_val)==np.shape(expected_val)\n",
    "        # TODO: Implement\n",
    "        softmax = Softmax()\n",
    "        return softmax(true_val) - expected_val\n",
    "    \n",
    "    def __call__(self, true_val, expected_val):\n",
    "        '''\n",
    "        __call__ is a special function in Python that, when implemented inside a class,\n",
    "        gives its instances (objects) the ability to behave like a function.\n",
    "        Here we return the _val method output.\n",
    "            \n",
    "            Parameters:\n",
    "                true_val: calculated values (generated by neural network)\n",
    "                expected_val: real values in dataset\n",
    "            Returns:\n",
    "                __val(matrix): __val return value for the input matrix\n",
    "        '''\n",
    "        return self.__val(true_val, expected_val)"
   ]
  },
  {
   "cell_type": "markdown",
   "metadata": {},
   "source": [
    "## Layer"
   ]
  },
  {
   "cell_type": "code",
   "execution_count": 17,
   "metadata": {
    "ExecuteTime": {
     "end_time": "2021-12-31T20:06:40.235599Z",
     "start_time": "2021-12-31T20:06:40.219322Z"
    }
   },
   "outputs": [],
   "source": [
    "class Layer:\n",
    "    '''\n",
    "    The layer class is used to define neural network layers.\n",
    "    It stores all needed information for each layer, such as neurons count,\n",
    "    weight matrix, bias, the output after applying the activation function, etc.\n",
    "    '''\n",
    "\n",
    "    DEFAULT_LOW, DEFAULT_HIGH, DEFAULT_MEAN, DEFAULT_VAR = 0, 0.05, 0., 1.\n",
    "  \n",
    "    def __init__(self, input_size, output_size, activation=Identical(), initial_weight='uniform', \n",
    "                 **initializing_parameters):\n",
    "        '''\n",
    "        Parameters:\n",
    "            input_size: the size of the input of this layer.\n",
    "            output_size: the size of the output after this layer.\n",
    "            activation: the activation function. It can be initialized to either of the previously defined activation classes.\n",
    "                               default is an Identical activation function.\n",
    "            initial_weight: either normal or uniform. It defines the method for weight initialization.\n",
    "        '''\n",
    "        \n",
    "        assert type(initial_weight)==str, 'Undefined activation function!'\n",
    "        \n",
    "        self.__weight_initializer_dict = {'uniform':self.__uniform_weight, \n",
    "                                          'normal':self.__normal_weight, \n",
    "                                          'zero' :self.__zero_weight}\n",
    "        \n",
    "        assert initial_weight in self.__weight_initializer_dict, 'Undefined weight initialization function!'\n",
    "\n",
    "\n",
    "        self.__n_neurons = output_size\n",
    "        weight_initializer = self.__weight_initializer_dict[initial_weight]\n",
    "        self.__weight = weight_initializer(input_size, self.__n_neurons, **initializing_parameters)\n",
    "        self.__bias = weight_initializer(1, self.__n_neurons, **initializing_parameters)\n",
    "        self.__activation = activation\n",
    "        \n",
    "        self.__last_input = None\n",
    "        self.__last_activation_input = None\n",
    "        self.__last_activation_output = None\n",
    "        self.__last_activation_derivative = None\n",
    "        \n",
    "    def forward(self, layer_input):\n",
    "        '''\n",
    "        It calculates the output of this layer for the layer_input argument.\n",
    "        This method also stores __last_input, __last_activation_input, and __last_activation_derivative\n",
    "        for future use in backpropagation.\n",
    "        Parameters:\n",
    "            layer_input: 2d np.matrix representing the input matrix of this layer.\n",
    "        Returns:\n",
    "            Final output of this layer after applying the activation function.\n",
    "        '''\n",
    "        assert np.ndim(layer_input)==2\n",
    "        assert np.size(self.__weight,0) == np.size(layer_input,1), f'__weight : {np.size(self.__weight,0)},  layer_input : {np.size(layer_input,1)}!'\n",
    "        # TODO: Implement\n",
    "        self.__last_input = layer_input\n",
    "        self.__last_activation_input = layer_input * self.__weight + self.__bias\n",
    "        self.__last_activation_derivative = self.__activation.derivative(self.__last_activation_input)\n",
    "        self.__last_activation_output = self.activation(self.__last_activation_input)\n",
    "        return self.__last_activation_output\n",
    "     \n",
    "    def update_weights(self, backprop_tensor, lr):\n",
    "        '''\n",
    "        It updates Layer weights according to the backpropagation matrix and learning rate.\n",
    "        This method updates bias values as well.\n",
    "        Parameters:\n",
    "            backprop_tensor: 2d np.matrix passed from the next layer containing gradient values.\n",
    "            lr: learning rate\n",
    "        Returns:\n",
    "            backprop_tensor to be used by the previous layer.\n",
    "        '''\n",
    "        assert np.ndim(backprop_tensor)==2\n",
    "        assert np.size(backprop_tensor,0) == np.size(self.__last_activation_derivative,0)\n",
    "        assert np.size(backprop_tensor,1) == self.__n_neurons\n",
    "        # TODO: Implement\n",
    "\n",
    "        last_inp = self.__last_input.transpose()\n",
    "        E_y = np.multiply(backprop_tensor,self.__last_activation_derivative)\n",
    "        E_w = np.matmul(last_inp,E_y)\n",
    "        backprop_tensor = np.matmul(E_y,self.__weight.transpose())\n",
    "        self.__weight -= E_w*lr\n",
    "        bu = np.matmul(np.matrix(np.tile(1, (1, E_y.shape[0]))),E_y)\n",
    "        self.__bias -= bu*lr\n",
    "        \n",
    "        return backprop_tensor\n",
    "\n",
    "    def __uniform_weight(self, dim1, dim2, **initializing_parameters):\n",
    "        '''\n",
    "        Initializes weights as a uniform distribution between low and high values.\n",
    "        It uses default low and high values unless low or high are passed in initializing_parameters.\n",
    "        Parameters:\n",
    "            dim1: the size of the first dimension of weights.\n",
    "            dim2: the size of the second dimension of weights.\n",
    "            initializing_parameters: other initializing parameters; it can include custom low or high values.\n",
    "        Returns:\n",
    "            np.matrix with size (dim1, dim2) initialized using uniformly distributed values.\n",
    "        '''\n",
    "        low, high = self.DEFAULT_LOW, self.DEFAULT_HIGH\n",
    "        if 'low' in initializing_parameters.keys(): low = initializing_parameters['low']\n",
    "        if 'high' in initializing_parameters.keys(): high = initializing_parameters['high']\n",
    "        # TODO: Implement\n",
    "        weights = np.random.uniform(size=(dim1, dim2), high=high, low=low)\n",
    "        weights = np.matrix(weights, dtype=float)\n",
    "        return weights\n",
    "\n",
    "    def __normal_weight(self, dim1, dim2, **initializing_parameters):\n",
    "        '''\n",
    "        Initializes weights as a normal distribution with mean and var values.\n",
    "        It uses default mean and variance values unless mean or var are passed in initializing_parameters.\n",
    "        Parameters:\n",
    "            dim1: the size of the first dimension of weights.\n",
    "            dim2: the size of the second dimension of weights.\n",
    "            initializing_parameters: other initializing parameters; it can include custom mean or var values.\n",
    "        Returns:\n",
    "            np.matrix with size (dim1, dim2) initialized using normaly distributed values.\n",
    "        ''' \n",
    "        mean, var = self.DEFAULT_MEAN, self.DEFAULT_VAR\n",
    "        if 'mean' in initializing_parameters.keys(): mean = initializing_parameters['mean']\n",
    "        if 'var' in initializing_parameters.keys(): var = initializing_parameters['var']\n",
    "        # TODO: Implement\n",
    "        weights = np.random.normal(size=(dim1, dim2), loc=mean, scale=var)\n",
    "        weights = np.matrix(weights, dtype=float)\n",
    "        return weights\n",
    "    \n",
    "    def __zero_weight(self, dim1, dim2, **initializing_parameters):\n",
    "        # TODO: Implement\n",
    "        weights = np.zeros(shape=(dim1, dim2))\n",
    "        weights = np.matrix(weights, dtype=float)\n",
    "        return weights\n",
    "    \n",
    "    @property\n",
    "    def n_neurons(self): return self.__n_neurons\n",
    "    \n",
    "    @property\n",
    "    def weight(self): return self.__weight\n",
    "    \n",
    "    @property\n",
    "    def bias(self): return self.__bias\n",
    "    \n",
    "    @property\n",
    "    def activation(self): return self.__activation\n",
    "    \n",
    "    @property\n",
    "    def last_input(self): return self.__last_input\n",
    "    \n",
    "    @property\n",
    "    def last_activation_output(self): return self.__last_activation_output\n",
    "    \n",
    "    "
   ]
  },
  {
   "cell_type": "markdown",
   "metadata": {},
   "source": [
    "## Network"
   ]
  },
  {
   "cell_type": "code",
   "execution_count": 18,
   "metadata": {
    "ExecuteTime": {
     "end_time": "2021-12-31T20:06:41.624345Z",
     "start_time": "2021-12-31T20:06:41.605134Z"
    }
   },
   "outputs": [],
   "source": [
    "class FeedForwardNN:\n",
    "    '''\n",
    "    This class is used in order to implement custom feed-forward neural networks.\n",
    "    The FeedForwardNN class stores a list of layers that determines all network layers.\n",
    "    It also consists of the learning rate and loss function.\n",
    "    '''\n",
    "    def __init__(self, input_shape):\n",
    "        '''\n",
    "        Parameters:\n",
    "            input_shape: the size of the first input to our neural network.\n",
    "        '''\n",
    "        \n",
    "        self.__input_shape = input_shape\n",
    "        self.__output_shape = None\n",
    "        \n",
    "        self.__layers_list = []\n",
    "        \n",
    "        self.__lr = None\n",
    "        self.__loss = None\n",
    "\n",
    "        \n",
    "    def add_layer(self, n_neurons, activation=Relu(), initial_weight='uniform', **initializing_parameters):\n",
    "        '''\n",
    "         This method adds a new custom layer to the layers_list.\n",
    "         Parameters:\n",
    "             n_neurons: number of neurons in this layer\n",
    "             activation: the activation function of this layer, default is Relu\n",
    "             initial_weight: either a uniform or normal, default is uniform\n",
    "             initializing_parameters: other initializing parameters such as low, high, mean, var, etc\n",
    "        '''\n",
    "         \n",
    "        assert type(n_neurons)==int, \"Invalid number of neurons for the layer!\"\n",
    "        assert n_neurons>0, \"Invalid number of neurons for the layer!\"\n",
    "        \n",
    "        n_prev_neurons = self.__input_shape if len(self.__layers_list)==0 else self.__layers_list[-1].n_neurons\n",
    "        new_layer = Layer(n_prev_neurons, n_neurons, activation, initial_weight, **initializing_parameters)\n",
    "        self.__layers_list.append(new_layer)\n",
    "        self.__output_shape = self.__layers_list[-1].n_neurons \n",
    "      \n",
    "    \n",
    "    def set_training_param(self, loss=CrossEntropy(), lr=1e-3):\n",
    "        '''\n",
    "        This method is used to set training parameters.\n",
    "        Parameters:\n",
    "            loss: loss function, default is CrossEntropy\n",
    "            lr: learning rate, default is 1e-3\n",
    "        '''\n",
    "        assert self.__layers_list, \"Uncomplete model!\"\n",
    "        self.__loss = loss\n",
    "        self.__lr = lr\n",
    "    \n",
    "    \n",
    "    def forward(self, network_input):\n",
    "        '''\n",
    "        This method calculates the output of the complete neural network for a passed input.\n",
    "        Parameters:\n",
    "            network_input: input of the neural network\n",
    "        Returns:\n",
    "            network_output: output of the neural network after forwarding the network_input\n",
    "        '''\n",
    "        assert type(self.__output_shape) != None, \"Model is not compiled!\"\n",
    "        # TODO: Implement\n",
    "        network_output = copy.deepcopy(network_input)\n",
    "        for layer in self.__layers_list:\n",
    "            network_output = layer.forward(network_output)\n",
    "        return network_output\n",
    "    \n",
    "    \n",
    "    def fit(self, epochs, trainloader, testloader=None, print_results=True):\n",
    "        '''\n",
    "        This method trains the neural network using specified parameters.\n",
    "        It runs the __train private method epoch times and fills the log dictionary.\n",
    "        Parameters:\n",
    "            epochs: number of epochs to run\n",
    "            trainloader: DataLoader for train data\n",
    "            testloader: DataLoader for test data\n",
    "            print_results: whether or not to print the results\n",
    "        Returns:\n",
    "            log: complete log of the training process as a dictionary consisting of\n",
    "            train_accuracy, train_loss, test_accuracy, test_loss\n",
    "        '''\n",
    "        \n",
    "        assert type(self.__output_shape) != None, \"Model is not compiled!\"\n",
    "        assert type(self.__lr) != None and type(self.__loss) != None, \"Training paramenters are not set!\"\n",
    "\n",
    "        log = {\"train_accuracy\":[], \"train_loss\":[], \"test_accuracy\":[], \"test_loss\":[]}\n",
    "        \n",
    "        for epoch in range(1, epochs+1):\n",
    "            \n",
    "            if print_results: \n",
    "                print('Epoch {}:'.format(epoch)) \n",
    "                \n",
    "            average_accuracy, average_loss = self.__train(trainloader)\n",
    "            log['train_accuracy'].append(average_accuracy)\n",
    "            log['train_loss'].append(average_loss)\n",
    "            if print_results:\n",
    "                print('\\tTrain: Average Accuracy: {}\\tAverage Loss: {}'.format(average_accuracy, average_loss))\n",
    "            \n",
    "            if type(testloader) != type(None):\n",
    "                average_accuracy, average_loss = self.__test(testloader)\n",
    "                log['test_accuracy'].append(average_accuracy)\n",
    "                log['test_loss'].append(average_loss)\n",
    "                if print_results:\n",
    "                    print('\\tTest: Average Accuracy: {}\\tAverage Loss: {}'.format(average_accuracy, average_loss))\n",
    "                    \n",
    "        return log\n",
    "    \n",
    "    \n",
    "    def __train(self, trainloader):\n",
    "        '''\n",
    "        Trains the neural network for one epoch.\n",
    "        Parameters:\n",
    "            trainloader: A DataLoader consisting of train data\n",
    "        Returns:\n",
    "            batch_accuracy, batch_loss: mean of all batch_accuracies, batch_losses\n",
    "        '''\n",
    "        batch_accuracies, batch_losses = [], []\n",
    "        for x_train, y_train in trainloader:\n",
    "            batch_accuracy, batch_loss = self.__train_on_batch(x_train, y_train)\n",
    "            batch_accuracies.append(batch_accuracy)\n",
    "            batch_losses.append(batch_loss)\n",
    "        return np.mean(batch_accuracies), np.mean(batch_losses)\n",
    "    \n",
    "    \n",
    "    def __test(self, testloader):\n",
    "        '''\n",
    "        Test the neural network using a testloader.\n",
    "        Parameters:\n",
    "            testloader: A DataLoader of test data\n",
    "        Returns:\n",
    "            batch_accuracy, batch_loss: mean of all batch_accuracies, batch_losses\n",
    "        '''\n",
    "        batch_accuracies, batch_losses = [], []\n",
    "        for x_test, y_test in testloader:\n",
    "            batch_accuracy, batch_loss = self.__test_on_batch(x_test, y_test)\n",
    "            batch_accuracies.append(batch_accuracy)\n",
    "            batch_losses.append(batch_loss)\n",
    "        return np.mean(batch_accuracies), np.mean(batch_losses)\n",
    "\n",
    "    \n",
    "    def __train_on_batch(self, x_batch, y_batch):\n",
    "        '''\n",
    "        Trains the neural network for one batch of train data.\n",
    "        Parameters:\n",
    "            x_batch: one batch data\n",
    "            y_batch: labels for one batch\n",
    "        Returns:\n",
    "            (batch_accuracy, batch_average_loss)\n",
    "        '''\n",
    "        # TODO: Implement\n",
    "        output = self.forward(x_batch)\n",
    "        batch_accuracy = self.__compute_accuracy(output, y_batch)\n",
    "        batch_average_loss = self.__update_weights(output, y_batch)\n",
    "        return (batch_accuracy, batch_average_loss)\n",
    "        \n",
    "        \n",
    "    def __test_on_batch(self, x_batch, y_batch):\n",
    "        '''\n",
    "        Tests the neural network for one batch of test data.\n",
    "        Parameters:\n",
    "            x_batch: one batch data\n",
    "            y_batch: labels for one batch\n",
    "        Returns:\n",
    "            (batch_accuracy, batch_average_loss)\n",
    "        '''  \n",
    "        # TODO: Implement\n",
    "        output = self.forward(x_batch)\n",
    "        batch_accuracy = self.__compute_accuracy(output, y_batch)\n",
    "        cross_entropy = CrossEntropy()\n",
    "        batch_average_loss = cross_entropy(output, y_batch) / len(output)\n",
    "        return (batch_accuracy, batch_average_loss)\n",
    "            \n",
    "        \n",
    "    def __get_labels(self, outputs):\n",
    "        '''\n",
    "        Parameters:\n",
    "            outputs: output of the neural network\n",
    "        Returns:\n",
    "            labels: labels generated from the outputs of the neural network\n",
    "        '''\n",
    "        # TODO: Implement\n",
    "        labels = np.argmax(outputs, axis = 1)\n",
    "        return labels\n",
    "    \n",
    "    def __compute_accuracy(self, output, expected_output):\n",
    "        '''\n",
    "        Computes accuracy by comparing output and expected_output.\n",
    "        Parameters:\n",
    "            output: actual output of the neural network\n",
    "            expected_output: expected output\n",
    "        Returns:\n",
    "            accuracy\n",
    "        '''\n",
    "        # TODO: Implement\n",
    "        labels = self.__get_labels(output)\n",
    "        count = 0\n",
    "        for i in range(len(output)):\n",
    "            if expected_output[i, labels[i]] == 1:\n",
    "                count += 1\n",
    "        accuracy = count / len(output)\n",
    "        return accuracy\n",
    "    \n",
    "    def __update_weights(self, output, y_train):\n",
    "        '''\n",
    "        Updates weights of all layers according to neural network output and labels.\n",
    "        Parameters:\n",
    "            output: output of the neural network\n",
    "            y_train: y labels for one batch of train data\n",
    "        Returns:\n",
    "            None\n",
    "        '''\n",
    "        # TODO: Implement\n",
    "        entropy = self.__loss.derivative(output, y_train)\n",
    "        for i in range(len(self.__layers_list)-1, -1, -1):\n",
    "            entropy = self.__layers_list[i].update_weights(entropy, self.__lr)\n",
    "        return self.__loss(output, y_train) / len(output)\n",
    "    \n",
    "    def get_layers_list(self):\n",
    "        return self.__layers_list"
   ]
  },
  {
   "cell_type": "markdown",
   "metadata": {},
   "source": [
    "***\n",
    "# Part Three: Classification"
   ]
  },
  {
   "cell_type": "markdown",
   "metadata": {},
   "source": [
    "## Network training"
   ]
  },
  {
   "cell_type": "code",
   "execution_count": 19,
   "metadata": {
    "ExecuteTime": {
     "end_time": "2021-12-31T20:06:43.915613Z",
     "start_time": "2021-12-31T20:06:43.340619Z"
    }
   },
   "outputs": [],
   "source": [
    "INPUT_SHAPE = 1024\n",
    "LEARNING_RATE = 0.001\n",
    "EPOCHS = 25\n",
    "\n",
    "TRAINLOADER = Dataloader(data = pd.DataFrame(X_train), labels = pd.DataFrame(y_train),\n",
    "                         n_classes = 2, batch_size = 32, shuffle = False)\n",
    "TESTLOADER = Dataloader(data = pd.DataFrame(X_test), labels = pd.DataFrame(y_test),\n",
    "                        n_classes = 2, batch_size = 32, shuffle = False)"
   ]
  },
  {
   "cell_type": "code",
   "execution_count": 20,
   "metadata": {
    "ExecuteTime": {
     "end_time": "2021-12-31T20:08:13.124881Z",
     "start_time": "2021-12-31T20:06:44.137294Z"
    },
    "collapsed": true
   },
   "outputs": [
    {
     "name": "stdout",
     "output_type": "stream",
     "text": [
      "Epoch 1:\n",
      "\tTrain: Average Accuracy: 0.506125\tAverage Loss: 1.1400776085950184\n",
      "\tTest: Average Accuracy: 0.5679563492063492\tAverage Loss: 0.6817268260272951\n",
      "Epoch 2:\n",
      "\tTrain: Average Accuracy: 0.598\tAverage Loss: 0.6706572445929188\n",
      "\tTest: Average Accuracy: 0.6051587301587301\tAverage Loss: 0.6618812410069975\n",
      "Epoch 3:\n",
      "\tTrain: Average Accuracy: 0.6235\tAverage Loss: 0.6468136594038595\n",
      "\tTest: Average Accuracy: 0.6245039682539683\tAverage Loss: 0.6358564525880348\n",
      "Epoch 4:\n",
      "\tTrain: Average Accuracy: 0.64375\tAverage Loss: 0.6251195722672833\n",
      "\tTest: Average Accuracy: 0.6180555555555556\tAverage Loss: 0.6294251541014118\n",
      "Epoch 5:\n",
      "\tTrain: Average Accuracy: 0.66575\tAverage Loss: 0.6070118139189842\n",
      "\tTest: Average Accuracy: 0.6354166666666666\tAverage Loss: 0.6183144161475139\n",
      "Epoch 6:\n",
      "\tTrain: Average Accuracy: 0.686625\tAverage Loss: 0.5885327838767158\n",
      "\tTest: Average Accuracy: 0.6597222222222222\tAverage Loss: 0.604471347191157\n",
      "Epoch 7:\n",
      "\tTrain: Average Accuracy: 0.697875\tAverage Loss: 0.5712382717765845\n",
      "\tTest: Average Accuracy: 0.6731150793650794\tAverage Loss: 0.5879953364652032\n",
      "Epoch 8:\n",
      "\tTrain: Average Accuracy: 0.714875\tAverage Loss: 0.5583376883666831\n",
      "\tTest: Average Accuracy: 0.6795634920634921\tAverage Loss: 0.590420831475909\n",
      "Epoch 9:\n",
      "\tTrain: Average Accuracy: 0.724875\tAverage Loss: 0.5466742256073088\n",
      "\tTest: Average Accuracy: 0.7008928571428571\tAverage Loss: 0.5741806146891041\n",
      "Epoch 10:\n",
      "\tTrain: Average Accuracy: 0.7285\tAverage Loss: 0.538710438698525\n",
      "\tTest: Average Accuracy: 0.7008928571428571\tAverage Loss: 0.5746756181214212\n",
      "Epoch 11:\n",
      "\tTrain: Average Accuracy: 0.733875\tAverage Loss: 0.5306033773075682\n",
      "\tTest: Average Accuracy: 0.6994047619047619\tAverage Loss: 0.5772404159777298\n",
      "Epoch 12:\n",
      "\tTrain: Average Accuracy: 0.737375\tAverage Loss: 0.5243009174009151\n",
      "\tTest: Average Accuracy: 0.6979166666666666\tAverage Loss: 0.5788797093944683\n",
      "Epoch 13:\n",
      "\tTrain: Average Accuracy: 0.74325\tAverage Loss: 0.5181548073030587\n",
      "\tTest: Average Accuracy: 0.6944444444444444\tAverage Loss: 0.5763605992400715\n",
      "Epoch 14:\n",
      "\tTrain: Average Accuracy: 0.746125\tAverage Loss: 0.513331591048598\n",
      "\tTest: Average Accuracy: 0.7018849206349206\tAverage Loss: 0.5710786708473486\n",
      "Epoch 15:\n",
      "\tTrain: Average Accuracy: 0.751625\tAverage Loss: 0.5085939358803679\n",
      "\tTest: Average Accuracy: 0.7053571428571429\tAverage Loss: 0.5640274585006984\n",
      "Epoch 16:\n",
      "\tTrain: Average Accuracy: 0.753625\tAverage Loss: 0.5040705988936582\n",
      "\tTest: Average Accuracy: 0.7033730158730159\tAverage Loss: 0.5645491311174917\n",
      "Epoch 17:\n",
      "\tTrain: Average Accuracy: 0.7555\tAverage Loss: 0.4993841278211631\n",
      "\tTest: Average Accuracy: 0.7068452380952381\tAverage Loss: 0.5652165638202556\n",
      "Epoch 18:\n",
      "\tTrain: Average Accuracy: 0.76\tAverage Loss: 0.4948644611574831\n",
      "\tTest: Average Accuracy: 0.7063492063492064\tAverage Loss: 0.5654253773913319\n",
      "Epoch 19:\n",
      "\tTrain: Average Accuracy: 0.76075\tAverage Loss: 0.4911064805737192\n",
      "\tTest: Average Accuracy: 0.7088293650793651\tAverage Loss: 0.5616456806447325\n",
      "Epoch 20:\n",
      "\tTrain: Average Accuracy: 0.76725\tAverage Loss: 0.48561779693823304\n",
      "\tTest: Average Accuracy: 0.7118055555555556\tAverage Loss: 0.5589247792743667\n",
      "Epoch 21:\n",
      "\tTrain: Average Accuracy: 0.7695\tAverage Loss: 0.4824256113521436\n",
      "\tTest: Average Accuracy: 0.7108134920634921\tAverage Loss: 0.5621402778490634\n",
      "Epoch 22:\n",
      "\tTrain: Average Accuracy: 0.769875\tAverage Loss: 0.4790811915284858\n",
      "\tTest: Average Accuracy: 0.7132936507936508\tAverage Loss: 0.5615870635640576\n",
      "Epoch 23:\n",
      "\tTrain: Average Accuracy: 0.773625\tAverage Loss: 0.47532483897608824\n",
      "\tTest: Average Accuracy: 0.7113095238095238\tAverage Loss: 0.5615228150196888\n",
      "Epoch 24:\n",
      "\tTrain: Average Accuracy: 0.775\tAverage Loss: 0.47173735186029164\n",
      "\tTest: Average Accuracy: 0.7118055555555556\tAverage Loss: 0.5613840010438683\n",
      "Epoch 25:\n",
      "\tTrain: Average Accuracy: 0.777375\tAverage Loss: 0.4676475728168609\n",
      "\tTest: Average Accuracy: 0.7093253968253969\tAverage Loss: 0.5658160028880773\n"
     ]
    }
   ],
   "source": [
    "network = FeedForwardNN(INPUT_SHAPE)\n",
    "\n",
    "network.add_layer(n_neurons = 16, activation = Relu(), weight_initializer='uniform')\n",
    "network.add_layer(n_neurons = 2, activation = Identical(), weight_initializer='uniform')\n",
    "network.set_training_param(loss=CrossEntropy(), lr=LEARNING_RATE)\n",
    "\n",
    "log = network.fit(EPOCHS, TRAINLOADER, TESTLOADER)"
   ]
  },
  {
   "cell_type": "code",
   "execution_count": 28,
   "metadata": {
    "ExecuteTime": {
     "end_time": "2021-12-31T20:10:53.247660Z",
     "start_time": "2021-12-31T20:10:53.105653Z"
    }
   },
   "outputs": [
    {
     "data": {
      "image/png": "[encoded data removed]",
      "text/plain": [
       "<Figure size 576x396 with 1 Axes>"
      ]
     },
     "metadata": {},
     "output_type": "display_data"
    }
   ],
   "source": [
    "plt.plot(log['train_accuracy'], label='Train')\n",
    "plt.plot(log['test_accuracy'], label='Test')\n",
    "plt.xlabel(\"Epoch\")\n",
    "plt.ylabel(\"Accuracy\")\n",
    "plt.legend()\n",
    "plt.show()"
   ]
  },
  {
   "cell_type": "markdown",
   "metadata": {},
   "source": [
    "## Network weighting"
   ]
  },
  {
   "cell_type": "code",
   "execution_count": 29,
   "metadata": {
    "ExecuteTime": {
     "end_time": "2021-12-31T20:12:41.592444Z",
     "start_time": "2021-12-31T20:11:13.772803Z"
    }
   },
   "outputs": [
    {
     "name": "stdout",
     "output_type": "stream",
     "text": [
      "Epoch 1:\n",
      "\tTrain: Average Accuracy: 0.518625\tAverage Loss: 1.2260161726706964\n",
      "\tTest: Average Accuracy: 0.5674603174603174\tAverage Loss: 0.6800793443426584\n",
      "Epoch 2:\n",
      "\tTrain: Average Accuracy: 0.59825\tAverage Loss: 0.6685622290379908\n",
      "\tTest: Average Accuracy: 0.6116071428571429\tAverage Loss: 0.6614150708151745\n",
      "Epoch 3:\n",
      "\tTrain: Average Accuracy: 0.627125\tAverage Loss: 0.6450953166759024\n",
      "\tTest: Average Accuracy: 0.6324404761904762\tAverage Loss: 0.6329867167411369\n",
      "Epoch 4:\n",
      "\tTrain: Average Accuracy: 0.647625\tAverage Loss: 0.6230231778073808\n",
      "\tTest: Average Accuracy: 0.6225198412698413\tAverage Loss: 0.6281909224848511\n",
      "Epoch 5:\n",
      "\tTrain: Average Accuracy: 0.666\tAverage Loss: 0.604674328786874\n",
      "\tTest: Average Accuracy: 0.6319444444444444\tAverage Loss: 0.6186332455535197\n",
      "Epoch 6:\n",
      "\tTrain: Average Accuracy: 0.686875\tAverage Loss: 0.5868017444024531\n",
      "\tTest: Average Accuracy: 0.652281746031746\tAverage Loss: 0.6125890901035563\n",
      "Epoch 7:\n",
      "\tTrain: Average Accuracy: 0.701625\tAverage Loss: 0.5716748336226356\n",
      "\tTest: Average Accuracy: 0.6517857142857143\tAverage Loss: 0.617704364330162\n",
      "Epoch 8:\n",
      "\tTrain: Average Accuracy: 0.712875\tAverage Loss: 0.55808295974225\n",
      "\tTest: Average Accuracy: 0.6626984126984127\tAverage Loss: 0.6072787764658559\n",
      "Epoch 9:\n",
      "\tTrain: Average Accuracy: 0.718\tAverage Loss: 0.5484097493678971\n",
      "\tTest: Average Accuracy: 0.6711309523809523\tAverage Loss: 0.5986259477510167\n",
      "Epoch 10:\n",
      "\tTrain: Average Accuracy: 0.72375\tAverage Loss: 0.5394136797692016\n",
      "\tTest: Average Accuracy: 0.6820436507936508\tAverage Loss: 0.592754094810157\n",
      "Epoch 11:\n",
      "\tTrain: Average Accuracy: 0.73025\tAverage Loss: 0.5324610849983877\n",
      "\tTest: Average Accuracy: 0.683531746031746\tAverage Loss: 0.5893714603318183\n",
      "Epoch 12:\n",
      "\tTrain: Average Accuracy: 0.734875\tAverage Loss: 0.5262954977121838\n",
      "\tTest: Average Accuracy: 0.6884920634920635\tAverage Loss: 0.5771642779965866\n",
      "Epoch 13:\n",
      "\tTrain: Average Accuracy: 0.73775\tAverage Loss: 0.5213246042280556\n",
      "\tTest: Average Accuracy: 0.6964285714285714\tAverage Loss: 0.5771414036237353\n",
      "Epoch 14:\n",
      "\tTrain: Average Accuracy: 0.740125\tAverage Loss: 0.5165758462973494\n",
      "\tTest: Average Accuracy: 0.6949404761904762\tAverage Loss: 0.5781592570122397\n",
      "Epoch 15:\n",
      "\tTrain: Average Accuracy: 0.74425\tAverage Loss: 0.5115823310438806\n",
      "\tTest: Average Accuracy: 0.6884920634920635\tAverage Loss: 0.5902071537466147\n",
      "Epoch 16:\n",
      "\tTrain: Average Accuracy: 0.750125\tAverage Loss: 0.5076542166777586\n",
      "\tTest: Average Accuracy: 0.6939484126984127\tAverage Loss: 0.5746176413664414\n",
      "Epoch 17:\n",
      "\tTrain: Average Accuracy: 0.75025\tAverage Loss: 0.5046026036953497\n",
      "\tTest: Average Accuracy: 0.6929563492063492\tAverage Loss: 0.5831130697912013\n",
      "Epoch 18:\n",
      "\tTrain: Average Accuracy: 0.75375\tAverage Loss: 0.5011892451204305\n",
      "\tTest: Average Accuracy: 0.6939484126984127\tAverage Loss: 0.581521713551498\n",
      "Epoch 19:\n",
      "\tTrain: Average Accuracy: 0.756125\tAverage Loss: 0.4971770073868648\n",
      "\tTest: Average Accuracy: 0.6989087301587301\tAverage Loss: 0.5766495197299246\n",
      "Epoch 20:\n",
      "\tTrain: Average Accuracy: 0.76\tAverage Loss: 0.4935630692571524\n",
      "\tTest: Average Accuracy: 0.6949404761904762\tAverage Loss: 0.5750841631201203\n",
      "Epoch 21:\n",
      "\tTrain: Average Accuracy: 0.762375\tAverage Loss: 0.4902122030451627\n",
      "\tTest: Average Accuracy: 0.6984126984126984\tAverage Loss: 0.573357281380509\n",
      "Epoch 22:\n",
      "\tTrain: Average Accuracy: 0.763\tAverage Loss: 0.4862267683420655\n",
      "\tTest: Average Accuracy: 0.6969246031746031\tAverage Loss: 0.5739824870495482\n",
      "Epoch 23:\n",
      "\tTrain: Average Accuracy: 0.764\tAverage Loss: 0.48288811130340725\n",
      "\tTest: Average Accuracy: 0.7013888888888888\tAverage Loss: 0.5736038593050636\n",
      "Epoch 24:\n",
      "\tTrain: Average Accuracy: 0.76975\tAverage Loss: 0.4789501831219138\n",
      "\tTest: Average Accuracy: 0.7033730158730159\tAverage Loss: 0.5724059267974388\n",
      "Epoch 25:\n",
      "\tTrain: Average Accuracy: 0.773\tAverage Loss: 0.47486890608624166\n",
      "\tTest: Average Accuracy: 0.7108134920634921\tAverage Loss: 0.5643886393850936\n"
     ]
    }
   ],
   "source": [
    "network = FeedForwardNN(INPUT_SHAPE)\n",
    "\n",
    "network.add_layer(n_neurons = 16, activation = Relu(), weight_initializer='zero')\n",
    "network.add_layer(n_neurons = 2, activation = Identical(), weight_initializer='zero')\n",
    "network.set_training_param(loss=CrossEntropy(), lr=LEARNING_RATE)\n",
    "\n",
    "log = network.fit(EPOCHS, TRAINLOADER, TESTLOADER)"
   ]
  },
  {
   "cell_type": "code",
   "execution_count": 30,
   "metadata": {
    "ExecuteTime": {
     "end_time": "2021-12-31T20:12:42.011275Z",
     "start_time": "2021-12-31T20:12:41.866101Z"
    },
    "scrolled": true
   },
   "outputs": [
    {
     "data": {
      "image/png": "[encoded data removed]",
      "text/plain": [
       "<Figure size 576x396 with 1 Axes>"
      ]
     },
     "metadata": {},
     "output_type": "display_data"
    }
   ],
   "source": [
    "plt.plot(log['train_accuracy'], label='Train')\n",
    "plt.plot(log['test_accuracy'], label='Test')\n",
    "plt.xlabel(\"Epoch\")\n",
    "plt.ylabel(\"Accuracy\")\n",
    "plt.legend()\n",
    "plt.show()"
   ]
  },
  {
   "cell_type": "markdown",
   "metadata": {},
   "source": [
    "### The problem of setting all initial weights to zero"
   ]
  },
  {
   "cell_type": "markdown",
   "metadata": {},
   "source": [
    "#### First, neural networks tend to get stuck in **local minima**, so it's a good idea to give them many different starting values. You can't do that if they all start at zero.<br>\n",
    "#### Second, if the neurons start with the same weights, then **all the neurons will follow the same gradient**, and will always end up doing the same thing as one another."
   ]
  },
  {
   "cell_type": "markdown",
   "metadata": {},
   "source": [
    "## The effect of learning rate "
   ]
  },
  {
   "cell_type": "code",
   "execution_count": 34,
   "metadata": {
    "ExecuteTime": {
     "end_time": "2021-12-31T20:21:45.097304Z",
     "start_time": "2021-12-31T20:17:16.608879Z"
    },
    "collapsed": true
   },
   "outputs": [
    {
     "name": "stdout",
     "output_type": "stream",
     "text": [
      "Epoch 1:\n",
      "\tTrain: Average Accuracy: 0.502875\tAverage Loss: 1.329657088506586\n",
      "\tTest: Average Accuracy: 0.48115079365079366\tAverage Loss: 0.7034122675259886\n",
      "Epoch 2:\n",
      "\tTrain: Average Accuracy: 0.564375\tAverage Loss: 0.6816535884354714\n",
      "\tTest: Average Accuracy: 0.6081349206349206\tAverage Loss: 0.665008230582086\n",
      "Epoch 3:\n",
      "\tTrain: Average Accuracy: 0.61075\tAverage Loss: 0.6607055013393492\n",
      "\tTest: Average Accuracy: 0.6205357142857143\tAverage Loss: 0.6539049770087548\n",
      "Epoch 4:\n",
      "\tTrain: Average Accuracy: 0.629375\tAverage Loss: 0.6454042906546813\n",
      "\tTest: Average Accuracy: 0.6349206349206349\tAverage Loss: 0.6392603562068607\n",
      "Epoch 5:\n",
      "\tTrain: Average Accuracy: 0.64275\tAverage Loss: 0.6300506994828193\n",
      "\tTest: Average Accuracy: 0.6418650793650794\tAverage Loss: 0.626165718340059\n",
      "Epoch 6:\n",
      "\tTrain: Average Accuracy: 0.6565\tAverage Loss: 0.6123433918453688\n",
      "\tTest: Average Accuracy: 0.6453373015873016\tAverage Loss: 0.6135721494576838\n",
      "Epoch 7:\n",
      "\tTrain: Average Accuracy: 0.676125\tAverage Loss: 0.5955843659791406\n",
      "\tTest: Average Accuracy: 0.6607142857142857\tAverage Loss: 0.5994100813184179\n",
      "Epoch 8:\n",
      "\tTrain: Average Accuracy: 0.69825\tAverage Loss: 0.5783735162705077\n",
      "\tTest: Average Accuracy: 0.6622023809523809\tAverage Loss: 0.6001234208991878\n",
      "Epoch 9:\n",
      "\tTrain: Average Accuracy: 0.710125\tAverage Loss: 0.5637804843904086\n",
      "\tTest: Average Accuracy: 0.6746031746031746\tAverage Loss: 0.5898829643401836\n",
      "Epoch 10:\n",
      "\tTrain: Average Accuracy: 0.719125\tAverage Loss: 0.552959407022773\n",
      "\tTest: Average Accuracy: 0.6825396825396826\tAverage Loss: 0.5818403646143384\n",
      "Epoch 11:\n",
      "\tTrain: Average Accuracy: 0.725375\tAverage Loss: 0.5443621715874872\n",
      "\tTest: Average Accuracy: 0.685515873015873\tAverage Loss: 0.5828692067866704\n",
      "Epoch 12:\n",
      "\tTrain: Average Accuracy: 0.7285\tAverage Loss: 0.5372737596078737\n",
      "\tTest: Average Accuracy: 0.6875\tAverage Loss: 0.5798441195741817\n",
      "Epoch 13:\n",
      "\tTrain: Average Accuracy: 0.73075\tAverage Loss: 0.5314715965013805\n",
      "\tTest: Average Accuracy: 0.6825396825396826\tAverage Loss: 0.5879279632140105\n",
      "Epoch 14:\n",
      "\tTrain: Average Accuracy: 0.736125\tAverage Loss: 0.5249990189602295\n",
      "\tTest: Average Accuracy: 0.6919642857142857\tAverage Loss: 0.5748919215778112\n",
      "Epoch 15:\n",
      "\tTrain: Average Accuracy: 0.739125\tAverage Loss: 0.5200643618889605\n",
      "\tTest: Average Accuracy: 0.6884920634920635\tAverage Loss: 0.5761444736271026\n",
      "Epoch 1:\n",
      "\tTrain: Average Accuracy: 0.514875\tAverage Loss: 1.2811091930102594\n",
      "\tTest: Average Accuracy: 0.5461309523809523\tAverage Loss: 0.6860212227485483\n",
      "Epoch 2:\n",
      "\tTrain: Average Accuracy: 0.593125\tAverage Loss: 0.6729579893948933\n",
      "\tTest: Average Accuracy: 0.6205357142857143\tAverage Loss: 0.6568892853679847\n",
      "Epoch 3:\n",
      "\tTrain: Average Accuracy: 0.622\tAverage Loss: 0.6536362648270024\n",
      "\tTest: Average Accuracy: 0.6215277777777778\tAverage Loss: 0.6484370406661705\n",
      "Epoch 4:\n",
      "\tTrain: Average Accuracy: 0.6355\tAverage Loss: 0.6363963329335921\n",
      "\tTest: Average Accuracy: 0.6225198412698413\tAverage Loss: 0.6320272334331472\n",
      "Epoch 5:\n",
      "\tTrain: Average Accuracy: 0.650875\tAverage Loss: 0.6191399403547191\n",
      "\tTest: Average Accuracy: 0.6473214285714286\tAverage Loss: 0.6112097255389717\n",
      "Epoch 6:\n",
      "\tTrain: Average Accuracy: 0.669\tAverage Loss: 0.6020408335888765\n",
      "\tTest: Average Accuracy: 0.6473214285714286\tAverage Loss: 0.6067325127006514\n",
      "Epoch 7:\n",
      "\tTrain: Average Accuracy: 0.687125\tAverage Loss: 0.5842112760653388\n",
      "\tTest: Average Accuracy: 0.6726190476190477\tAverage Loss: 0.5918816539597276\n",
      "Epoch 8:\n",
      "\tTrain: Average Accuracy: 0.7055\tAverage Loss: 0.5662993567362403\n",
      "\tTest: Average Accuracy: 0.6755952380952381\tAverage Loss: 0.5888244133532213\n",
      "Epoch 9:\n",
      "\tTrain: Average Accuracy: 0.713125\tAverage Loss: 0.5538728675758791\n",
      "\tTest: Average Accuracy: 0.6875\tAverage Loss: 0.5836947296363789\n",
      "Epoch 10:\n",
      "\tTrain: Average Accuracy: 0.7215\tAverage Loss: 0.5431291783037107\n",
      "\tTest: Average Accuracy: 0.6974206349206349\tAverage Loss: 0.5676869553855841\n",
      "Epoch 11:\n",
      "\tTrain: Average Accuracy: 0.72775\tAverage Loss: 0.5361842306475311\n",
      "\tTest: Average Accuracy: 0.6909722222222222\tAverage Loss: 0.5816649491298782\n",
      "Epoch 12:\n",
      "\tTrain: Average Accuracy: 0.734\tAverage Loss: 0.5282025368574279\n",
      "\tTest: Average Accuracy: 0.6969246031746031\tAverage Loss: 0.5760437624122772\n",
      "Epoch 13:\n",
      "\tTrain: Average Accuracy: 0.739625\tAverage Loss: 0.521236207284009\n",
      "\tTest: Average Accuracy: 0.689484126984127\tAverage Loss: 0.5778776026534481\n",
      "Epoch 14:\n",
      "\tTrain: Average Accuracy: 0.743625\tAverage Loss: 0.5158312660950162\n",
      "\tTest: Average Accuracy: 0.6919642857142857\tAverage Loss: 0.5785880115236401\n",
      "Epoch 15:\n",
      "\tTrain: Average Accuracy: 0.747375\tAverage Loss: 0.5099720226940113\n",
      "\tTest: Average Accuracy: 0.6959325396825397\tAverage Loss: 0.56998519475248\n",
      "Epoch 1:\n",
      "\tTrain: Average Accuracy: 0.518875\tAverage Loss: 1.178975014736344\n",
      "\tTest: Average Accuracy: 0.5729166666666666\tAverage Loss: 0.6793963699845594\n",
      "Epoch 2:\n",
      "\tTrain: Average Accuracy: 0.6005\tAverage Loss: 0.6688694477780655\n",
      "\tTest: Average Accuracy: 0.6096230158730159\tAverage Loss: 0.6618020005648352\n",
      "Epoch 3:\n",
      "\tTrain: Average Accuracy: 0.62425\tAverage Loss: 0.648002818265079\n",
      "\tTest: Average Accuracy: 0.6160714285714286\tAverage Loss: 0.644418386332438\n",
      "Epoch 4:\n",
      "\tTrain: Average Accuracy: 0.640375\tAverage Loss: 0.6272683221406883\n",
      "\tTest: Average Accuracy: 0.6091269841269841\tAverage Loss: 0.6302818551404844\n",
      "Epoch 5:\n",
      "\tTrain: Average Accuracy: 0.663875\tAverage Loss: 0.6073573392275068\n",
      "\tTest: Average Accuracy: 0.6170634920634921\tAverage Loss: 0.6242332110117176\n",
      "Epoch 6:\n",
      "\tTrain: Average Accuracy: 0.68275\tAverage Loss: 0.5907567524629113\n",
      "\tTest: Average Accuracy: 0.6527777777777778\tAverage Loss: 0.6035448260028696\n",
      "Epoch 7:\n",
      "\tTrain: Average Accuracy: 0.6945\tAverage Loss: 0.5761639219763312\n",
      "\tTest: Average Accuracy: 0.6527777777777778\tAverage Loss: 0.6108252265964491\n",
      "Epoch 8:\n",
      "\tTrain: Average Accuracy: 0.7025\tAverage Loss: 0.5640976299753407\n",
      "\tTest: Average Accuracy: 0.6641865079365079\tAverage Loss: 0.5936428953468214\n",
      "Epoch 9:\n",
      "\tTrain: Average Accuracy: 0.717\tAverage Loss: 0.5509679626648183\n",
      "\tTest: Average Accuracy: 0.6641865079365079\tAverage Loss: 0.5979033261307929\n",
      "Epoch 10:\n",
      "\tTrain: Average Accuracy: 0.727\tAverage Loss: 0.5423319520230317\n",
      "\tTest: Average Accuracy: 0.6845238095238095\tAverage Loss: 0.5888462504162942\n",
      "Epoch 11:\n",
      "\tTrain: Average Accuracy: 0.73325\tAverage Loss: 0.5354784255840671\n",
      "\tTest: Average Accuracy: 0.6875\tAverage Loss: 0.5829100517620686\n",
      "Epoch 12:\n",
      "\tTrain: Average Accuracy: 0.73675\tAverage Loss: 0.5298343525970625\n",
      "\tTest: Average Accuracy: 0.6944444444444444\tAverage Loss: 0.5759672311367943\n",
      "Epoch 13:\n",
      "\tTrain: Average Accuracy: 0.74075\tAverage Loss: 0.5240128878970355\n",
      "\tTest: Average Accuracy: 0.6904761904761905\tAverage Loss: 0.5818701847463246\n",
      "Epoch 14:\n",
      "\tTrain: Average Accuracy: 0.742875\tAverage Loss: 0.5179614765229764\n",
      "\tTest: Average Accuracy: 0.6919642857142857\tAverage Loss: 0.5809220406657177\n",
      "Epoch 15:\n",
      "\tTrain: Average Accuracy: 0.74625\tAverage Loss: 0.5135738932774782\n",
      "\tTest: Average Accuracy: 0.6939484126984127\tAverage Loss: 0.5786327777547163\n",
      "Epoch 1:\n",
      "\tTrain: Average Accuracy: 0.55225\tAverage Loss: 0.8705420673419014\n",
      "\tTest: Average Accuracy: 0.5838293650793651\tAverage Loss: 0.6698663312195782\n",
      "Epoch 2:\n",
      "\tTrain: Average Accuracy: 0.621125\tAverage Loss: 0.6435055781263785\n",
      "\tTest: Average Accuracy: 0.589781746031746\tAverage Loss: 0.6527631763626601\n",
      "Epoch 3:\n",
      "\tTrain: Average Accuracy: 0.644\tAverage Loss: 0.6173955386926882\n",
      "\tTest: Average Accuracy: 0.5942460317460317\tAverage Loss: 0.6502910062587395\n",
      "Epoch 4:\n",
      "\tTrain: Average Accuracy: 0.674875\tAverage Loss: 0.5928218391198122\n",
      "\tTest: Average Accuracy: 0.6398809523809523\tAverage Loss: 0.6281925709902779\n",
      "Epoch 5:\n",
      "\tTrain: Average Accuracy: 0.694375\tAverage Loss: 0.5743655656746901\n",
      "\tTest: Average Accuracy: 0.6626984126984127\tAverage Loss: 0.6077527588883285\n",
      "Epoch 6:\n",
      "\tTrain: Average Accuracy: 0.704625\tAverage Loss: 0.5598931222060097\n",
      "\tTest: Average Accuracy: 0.6850198412698413\tAverage Loss: 0.5867175873418148\n",
      "Epoch 7:\n",
      "\tTrain: Average Accuracy: 0.71475\tAverage Loss: 0.5496246170662568\n",
      "\tTest: Average Accuracy: 0.6870039682539683\tAverage Loss: 0.5864158294476971\n",
      "Epoch 8:\n",
      "\tTrain: Average Accuracy: 0.721125\tAverage Loss: 0.5404067539751949\n",
      "\tTest: Average Accuracy: 0.6889880952380952\tAverage Loss: 0.5888440920371445\n",
      "Epoch 9:\n",
      "\tTrain: Average Accuracy: 0.73075\tAverage Loss: 0.5331097252897116\n",
      "\tTest: Average Accuracy: 0.6865079365079365\tAverage Loss: 0.592605959931317\n",
      "Epoch 10:\n"
     ]
    },
    {
     "name": "stdout",
     "output_type": "stream",
     "text": [
      "\tTrain: Average Accuracy: 0.734375\tAverage Loss: 0.5277127837020382\n",
      "\tTest: Average Accuracy: 0.6870039682539683\tAverage Loss: 0.5867381657736305\n",
      "Epoch 11:\n",
      "\tTrain: Average Accuracy: 0.7375\tAverage Loss: 0.521790277258766\n",
      "\tTest: Average Accuracy: 0.6999007936507936\tAverage Loss: 0.5786494727879787\n",
      "Epoch 12:\n",
      "\tTrain: Average Accuracy: 0.742\tAverage Loss: 0.5166357133625686\n",
      "\tTest: Average Accuracy: 0.6934523809523809\tAverage Loss: 0.577767041420659\n",
      "Epoch 13:\n",
      "\tTrain: Average Accuracy: 0.745375\tAverage Loss: 0.5105494447801217\n",
      "\tTest: Average Accuracy: 0.7028769841269841\tAverage Loss: 0.5672358921598133\n",
      "Epoch 14:\n",
      "\tTrain: Average Accuracy: 0.748\tAverage Loss: 0.5056680416826579\n",
      "\tTest: Average Accuracy: 0.7018849206349206\tAverage Loss: 0.5681227390606945\n",
      "Epoch 15:\n",
      "\tTrain: Average Accuracy: 0.748625\tAverage Loss: 0.5018474645355557\n",
      "\tTest: Average Accuracy: 0.7058531746031746\tAverage Loss: 0.5613929635053536\n",
      "Epoch 1:\n",
      "\tTrain: Average Accuracy: 0.568\tAverage Loss: 0.7809331520091453\n",
      "\tTest: Average Accuracy: 0.5709325396825397\tAverage Loss: 0.672032672981401\n",
      "Epoch 2:\n",
      "\tTrain: Average Accuracy: 0.631\tAverage Loss: 0.6367277386244158\n",
      "\tTest: Average Accuracy: 0.6240079365079365\tAverage Loss: 0.6309780398584655\n",
      "Epoch 3:\n",
      "\tTrain: Average Accuracy: 0.659\tAverage Loss: 0.6148853831540286\n",
      "\tTest: Average Accuracy: 0.6299603174603174\tAverage Loss: 0.6256085223868322\n",
      "Epoch 4:\n",
      "\tTrain: Average Accuracy: 0.685\tAverage Loss: 0.588987036347217\n",
      "\tTest: Average Accuracy: 0.6651785714285714\tAverage Loss: 0.5984369402806221\n",
      "Epoch 5:\n",
      "\tTrain: Average Accuracy: 0.700875\tAverage Loss: 0.5690789074948022\n",
      "\tTest: Average Accuracy: 0.6597222222222222\tAverage Loss: 0.6114291027358023\n",
      "Epoch 6:\n",
      "\tTrain: Average Accuracy: 0.711\tAverage Loss: 0.5570271125942142\n",
      "\tTest: Average Accuracy: 0.6681547619047619\tAverage Loss: 0.6064815008747826\n",
      "Epoch 7:\n",
      "\tTrain: Average Accuracy: 0.717\tAverage Loss: 0.5493967471328688\n",
      "\tTest: Average Accuracy: 0.6681547619047619\tAverage Loss: 0.6061773332306996\n",
      "Epoch 8:\n",
      "\tTrain: Average Accuracy: 0.7225\tAverage Loss: 0.5415187180068584\n",
      "\tTest: Average Accuracy: 0.6746031746031746\tAverage Loss: 0.5981403516910403\n",
      "Epoch 9:\n",
      "\tTrain: Average Accuracy: 0.732\tAverage Loss: 0.5332577267354432\n",
      "\tTest: Average Accuracy: 0.6691468253968254\tAverage Loss: 0.6109152748322392\n",
      "Epoch 10:\n",
      "\tTrain: Average Accuracy: 0.731\tAverage Loss: 0.5286461017767828\n",
      "\tTest: Average Accuracy: 0.6765873015873016\tAverage Loss: 0.594285093245287\n",
      "Epoch 11:\n",
      "\tTrain: Average Accuracy: 0.74075\tAverage Loss: 0.521990803888506\n",
      "\tTest: Average Accuracy: 0.6750992063492064\tAverage Loss: 0.5991099486090342\n",
      "Epoch 12:\n",
      "\tTrain: Average Accuracy: 0.74175\tAverage Loss: 0.5156623640354102\n",
      "\tTest: Average Accuracy: 0.6825396825396826\tAverage Loss: 0.5900955575166174\n",
      "Epoch 13:\n",
      "\tTrain: Average Accuracy: 0.743375\tAverage Loss: 0.5126210106991841\n",
      "\tTest: Average Accuracy: 0.6790674603174603\tAverage Loss: 0.5908376541129664\n",
      "Epoch 14:\n",
      "\tTrain: Average Accuracy: 0.74675\tAverage Loss: 0.5082708309768111\n",
      "\tTest: Average Accuracy: 0.6909722222222222\tAverage Loss: 0.5782345780945933\n",
      "Epoch 15:\n",
      "\tTrain: Average Accuracy: 0.752875\tAverage Loss: 0.5038257502830326\n",
      "\tTest: Average Accuracy: 0.6969246031746031\tAverage Loss: 0.5739095334202249\n"
     ]
    }
   ],
   "source": [
    "EPOCHS = 15\n",
    "lrs = [0.0008, 0.0009, 0.001, 0.002, 0.003]\n",
    "logs = []\n",
    "for lr in lrs:\n",
    "    network = FeedForwardNN(INPUT_SHAPE)\n",
    "    network.add_layer(n_neurons = 16, activation = Relu(), weight_initializer='uniform')\n",
    "    network.add_layer(n_neurons = 2, activation = Identical(), weight_initializer='uniform')\n",
    "    network.set_training_param(loss=CrossEntropy(), lr=lr)\n",
    "\n",
    "    log = network.fit(EPOCHS, TRAINLOADER, TESTLOADER)\n",
    "    logs.append(log)"
   ]
  },
  {
   "cell_type": "code",
   "execution_count": 35,
   "metadata": {
    "ExecuteTime": {
     "end_time": "2021-12-31T20:23:51.859108Z",
     "start_time": "2021-12-31T20:23:51.146748Z"
    }
   },
   "outputs": [
    {
     "data": {
      "image/png": "[encoded data removed]",
      "text/plain": [
       "<Figure size 576x396 with 1 Axes>"
      ]
     },
     "metadata": {},
     "output_type": "display_data"
    },
    {
     "data": {
      "image/png": "[encoded data removed]",
      "text/plain": [
       "<Figure size 576x396 with 1 Axes>"
      ]
     },
     "metadata": {},
     "output_type": "display_data"
    },
    {
     "data": {
      "image/png": "[encoded data removed]",
      "text/plain": [
       "<Figure size 576x396 with 1 Axes>"
      ]
     },
     "metadata": {},
     "output_type": "display_data"
    },
    {
     "data": {
      "image/png": "[encoded data removed]",
      "text/plain": [
       "<Figure size 576x396 with 1 Axes>"
      ]
     },
     "metadata": {},
     "output_type": "display_data"
    },
    {
     "data": {
      "image/png": "[encoded data removed]",
      "text/plain": [
       "<Figure size 576x396 with 1 Axes>"
      ]
     },
     "metadata": {},
     "output_type": "display_data"
    }
   ],
   "source": [
    "i = 0\n",
    "for log in logs:\n",
    "    plt.plot(log['train_accuracy'], label='Train')\n",
    "    plt.plot(log['test_accuracy'], label='Test')\n",
    "    plt.xlabel(\"Epoch\")\n",
    "    plt.ylabel(\"Accuracy\")\n",
    "    plt.title(f\"Learning Rate : {lrs[i]}\")\n",
    "    plt.legend()\n",
    "    plt.show()\n",
    "    i += 1"
   ]
  },
  {
   "cell_type": "markdown",
   "metadata": {},
   "source": [
    "### Best Learning Rate : 0.002"
   ]
  },
  {
   "cell_type": "code",
   "execution_count": 36,
   "metadata": {
    "ExecuteTime": {
     "end_time": "2021-12-31T20:27:09.286722Z",
     "start_time": "2021-12-31T20:25:24.590729Z"
    },
    "collapsed": true
   },
   "outputs": [
    {
     "name": "stdout",
     "output_type": "stream",
     "text": [
      "Epoch 1:\n",
      "\tTrain: Average Accuracy: 0.488625\tAverage Loss: 0.7440196213298613\n",
      "\tTest: Average Accuracy: 0.5188492063492064\tAverage Loss: 0.6928606201473695\n",
      "Epoch 2:\n",
      "\tTrain: Average Accuracy: 0.485375\tAverage Loss: 0.6949961208825244\n",
      "\tTest: Average Accuracy: 0.5188492063492064\tAverage Loss: 0.6928606201473695\n",
      "Epoch 3:\n",
      "\tTrain: Average Accuracy: 0.485375\tAverage Loss: 0.6949961208825244\n",
      "\tTest: Average Accuracy: 0.5188492063492064\tAverage Loss: 0.6928606201473695\n",
      "Epoch 4:\n",
      "\tTrain: Average Accuracy: 0.485375\tAverage Loss: 0.6949961208825244\n",
      "\tTest: Average Accuracy: 0.5188492063492064\tAverage Loss: 0.6928606201473695\n",
      "Epoch 5:\n",
      "\tTrain: Average Accuracy: 0.485375\tAverage Loss: 0.6949961208825244\n",
      "\tTest: Average Accuracy: 0.5188492063492064\tAverage Loss: 0.6928606201473695\n",
      "Epoch 6:\n",
      "\tTrain: Average Accuracy: 0.485375\tAverage Loss: 0.6949961208825244\n",
      "\tTest: Average Accuracy: 0.5188492063492064\tAverage Loss: 0.6928606201473695\n",
      "Epoch 7:\n",
      "\tTrain: Average Accuracy: 0.485375\tAverage Loss: 0.6949961208825244\n",
      "\tTest: Average Accuracy: 0.5188492063492064\tAverage Loss: 0.6928606201473695\n",
      "Epoch 8:\n",
      "\tTrain: Average Accuracy: 0.485375\tAverage Loss: 0.6949961208825244\n",
      "\tTest: Average Accuracy: 0.5188492063492064\tAverage Loss: 0.6928606201473695\n",
      "Epoch 9:\n",
      "\tTrain: Average Accuracy: 0.485375\tAverage Loss: 0.6949961208825244\n",
      "\tTest: Average Accuracy: 0.5188492063492064\tAverage Loss: 0.6928606201473695\n",
      "Epoch 10:\n",
      "\tTrain: Average Accuracy: 0.485375\tAverage Loss: 0.6949961208825244\n",
      "\tTest: Average Accuracy: 0.5188492063492064\tAverage Loss: 0.6928606201473695\n",
      "Epoch 11:\n",
      "\tTrain: Average Accuracy: 0.485375\tAverage Loss: 0.6949961208825244\n",
      "\tTest: Average Accuracy: 0.5188492063492064\tAverage Loss: 0.6928606201473695\n",
      "Epoch 12:\n",
      "\tTrain: Average Accuracy: 0.485375\tAverage Loss: 0.6949961208825244\n",
      "\tTest: Average Accuracy: 0.5188492063492064\tAverage Loss: 0.6928606201473695\n",
      "Epoch 13:\n",
      "\tTrain: Average Accuracy: 0.485375\tAverage Loss: 0.6949961208825244\n",
      "\tTest: Average Accuracy: 0.5188492063492064\tAverage Loss: 0.6928606201473695\n",
      "Epoch 14:\n",
      "\tTrain: Average Accuracy: 0.485375\tAverage Loss: 0.6949961208825244\n",
      "\tTest: Average Accuracy: 0.5188492063492064\tAverage Loss: 0.6928606201473695\n",
      "Epoch 15:\n",
      "\tTrain: Average Accuracy: 0.485375\tAverage Loss: 0.6949961208825244\n",
      "\tTest: Average Accuracy: 0.5188492063492064\tAverage Loss: 0.6928606201473695\n",
      "Epoch 1:\n",
      "\tTrain: Average Accuracy: 0.491875\tAverage Loss: 1.5100759918782927\n",
      "\tTest: Average Accuracy: 0.5188492063492064\tAverage Loss: 0.7056850967401811\n",
      "Epoch 2:\n",
      "\tTrain: Average Accuracy: 0.499125\tAverage Loss: 1.1934450113750599\n",
      "\tTest: Average Accuracy: 0.48115079365079366\tAverage Loss: 0.8349307470741925\n",
      "Epoch 3:\n",
      "\tTrain: Average Accuracy: 0.499625\tAverage Loss: 1.0036847963727924\n",
      "\tTest: Average Accuracy: 0.48115079365079366\tAverage Loss: 0.9242922937219036\n",
      "Epoch 4:\n",
      "\tTrain: Average Accuracy: 0.50125\tAverage Loss: 0.8944893753007483\n",
      "\tTest: Average Accuracy: 0.48115079365079366\tAverage Loss: 0.907787445814681\n",
      "Epoch 5:\n",
      "\tTrain: Average Accuracy: 0.498\tAverage Loss: 0.846093616816982\n",
      "\tTest: Average Accuracy: 0.48115079365079366\tAverage Loss: 0.8666688758525437\n",
      "Epoch 6:\n",
      "\tTrain: Average Accuracy: 0.500125\tAverage Loss: 0.8084713661510009\n",
      "\tTest: Average Accuracy: 0.48115079365079366\tAverage Loss: 0.8273883749243527\n",
      "Epoch 7:\n",
      "\tTrain: Average Accuracy: 0.502125\tAverage Loss: 0.7813322113656239\n",
      "\tTest: Average Accuracy: 0.4816468253968254\tAverage Loss: 0.7947667450378182\n",
      "Epoch 8:\n",
      "\tTrain: Average Accuracy: 0.508875\tAverage Loss: 0.7606045074656668\n",
      "\tTest: Average Accuracy: 0.48214285714285715\tAverage Loss: 0.7681851246908946\n",
      "Epoch 9:\n",
      "\tTrain: Average Accuracy: 0.520875\tAverage Loss: 0.744096112639617\n",
      "\tTest: Average Accuracy: 0.49107142857142855\tAverage Loss: 0.7471596968276832\n",
      "Epoch 10:\n",
      "\tTrain: Average Accuracy: 0.53525\tAverage Loss: 0.7308498945013339\n",
      "\tTest: Average Accuracy: 0.5114087301587301\tAverage Loss: 0.7314637896224695\n",
      "Epoch 11:\n",
      "\tTrain: Average Accuracy: 0.547875\tAverage Loss: 0.7202233689164261\n",
      "\tTest: Average Accuracy: 0.529265873015873\tAverage Loss: 0.7201843016821342\n",
      "Epoch 12:\n",
      "\tTrain: Average Accuracy: 0.55475\tAverage Loss: 0.7115195360856064\n",
      "\tTest: Average Accuracy: 0.5401785714285714\tAverage Loss: 0.7119085524137163\n",
      "Epoch 13:\n",
      "\tTrain: Average Accuracy: 0.565125\tAverage Loss: 0.7041062198290904\n",
      "\tTest: Average Accuracy: 0.5515873015873016\tAverage Loss: 0.7054010707843043\n",
      "Epoch 14:\n",
      "\tTrain: Average Accuracy: 0.575\tAverage Loss: 0.6975534882816466\n",
      "\tTest: Average Accuracy: 0.5610119047619048\tAverage Loss: 0.6998698382391529\n",
      "Epoch 15:\n",
      "\tTrain: Average Accuracy: 0.581625\tAverage Loss: 0.6916235049567859\n",
      "\tTest: Average Accuracy: 0.5679563492063492\tAverage Loss: 0.6948922147836673\n"
     ]
    }
   ],
   "source": [
    "lrs = [0.01, 0.0001]\n",
    "logs_lr = []\n",
    "for lr in lrs:\n",
    "    network = FeedForwardNN(INPUT_SHAPE)\n",
    "    network.add_layer(n_neurons = 16, activation = Relu(), weight_initializer='uniform')\n",
    "    network.add_layer(n_neurons = 2, activation = Identical(), weight_initializer='uniform')\n",
    "    network.set_training_param(loss=CrossEntropy(), lr=lr)\n",
    "\n",
    "    log = network.fit(EPOCHS, TRAINLOADER, TESTLOADER)\n",
    "    logs_lr.append(log)"
   ]
  },
  {
   "cell_type": "code",
   "execution_count": 37,
   "metadata": {
    "ExecuteTime": {
     "end_time": "2021-12-31T20:27:29.639611Z",
     "start_time": "2021-12-31T20:27:29.346862Z"
    }
   },
   "outputs": [
    {
     "data": {
      "image/png": "[encoded data removed]",
      "text/plain": [
       "<Figure size 576x396 with 1 Axes>"
      ]
     },
     "metadata": {},
     "output_type": "display_data"
    },
    {
     "data": {
      "image/png": "[encoded data removed]",
      "text/plain": [
       "<Figure size 576x396 with 1 Axes>"
      ]
     },
     "metadata": {},
     "output_type": "display_data"
    }
   ],
   "source": [
    "i = 0\n",
    "for log in logs_lr:\n",
    "    plt.plot(log['train_accuracy'], label='Train')\n",
    "    plt.plot(log['test_accuracy'], label='Test')\n",
    "    plt.xlabel(\"Epoch\")\n",
    "    plt.ylabel(\"Accuracy\")\n",
    "    plt.title(f\"Learning Rate : {lrs[i]}\")\n",
    "    plt.legend()\n",
    "    plt.show()\n",
    "    i += 1"
   ]
  },
  {
   "cell_type": "markdown",
   "metadata": {},
   "source": [
    "### A learning rate that is too large can cause the model to converge too quickly to a suboptimal solution, whereas a learning rate that is too small can cause the process to get stuck."
   ]
  },
  {
   "cell_type": "markdown",
   "metadata": {},
   "source": [
    "## The effect of activation functions"
   ]
  },
  {
   "cell_type": "code",
   "execution_count": 42,
   "metadata": {
    "ExecuteTime": {
     "end_time": "2021-12-31T20:34:10.886377Z",
     "start_time": "2021-12-31T20:31:35.443069Z"
    },
    "collapsed": true
   },
   "outputs": [
    {
     "name": "stdout",
     "output_type": "stream",
     "text": [
      "Epoch 1:\n",
      "\tTrain: Average Accuracy: 0.490625\tAverage Loss: 0.7007166534127823\n",
      "\tTest: Average Accuracy: 0.48115079365079366\tAverage Loss: 0.7036154957132875\n",
      "Epoch 2:\n",
      "\tTrain: Average Accuracy: 0.491375\tAverage Loss: 0.7006707822243395\n",
      "\tTest: Average Accuracy: 0.48115079365079366\tAverage Loss: 0.7036154900255275\n",
      "Epoch 3:\n",
      "\tTrain: Average Accuracy: 0.491375\tAverage Loss: 0.7006707796625536\n",
      "\tTest: Average Accuracy: 0.48115079365079366\tAverage Loss: 0.7036154843357275\n",
      "Epoch 4:\n",
      "\tTrain: Average Accuracy: 0.491375\tAverage Loss: 0.7006707771000937\n",
      "\tTest: Average Accuracy: 0.48115079365079366\tAverage Loss: 0.7036154786438779\n",
      "Epoch 5:\n",
      "\tTrain: Average Accuracy: 0.491375\tAverage Loss: 0.7006707745369551\n",
      "\tTest: Average Accuracy: 0.48115079365079366\tAverage Loss: 0.7036154729499698\n",
      "Epoch 6:\n",
      "\tTrain: Average Accuracy: 0.491375\tAverage Loss: 0.7006707719731338\n",
      "\tTest: Average Accuracy: 0.48115079365079366\tAverage Loss: 0.7036154672539944\n",
      "Epoch 7:\n",
      "\tTrain: Average Accuracy: 0.491375\tAverage Loss: 0.7006707694086252\n",
      "\tTest: Average Accuracy: 0.48115079365079366\tAverage Loss: 0.7036154615559422\n",
      "Epoch 8:\n",
      "\tTrain: Average Accuracy: 0.491375\tAverage Loss: 0.7006707668434246\n",
      "\tTest: Average Accuracy: 0.48115079365079366\tAverage Loss: 0.7036154558558038\n",
      "Epoch 9:\n",
      "\tTrain: Average Accuracy: 0.491375\tAverage Loss: 0.7006707642775277\n",
      "\tTest: Average Accuracy: 0.48115079365079366\tAverage Loss: 0.7036154501535701\n",
      "Epoch 10:\n",
      "\tTrain: Average Accuracy: 0.491375\tAverage Loss: 0.7006707617109303\n",
      "\tTest: Average Accuracy: 0.48115079365079366\tAverage Loss: 0.703615444449232\n",
      "Epoch 11:\n",
      "\tTrain: Average Accuracy: 0.491375\tAverage Loss: 0.7006707591436279\n",
      "\tTest: Average Accuracy: 0.48115079365079366\tAverage Loss: 0.7036154387427801\n",
      "Epoch 12:\n",
      "\tTrain: Average Accuracy: 0.491375\tAverage Loss: 0.7006707565756157\n",
      "\tTest: Average Accuracy: 0.48115079365079366\tAverage Loss: 0.7036154330342048\n",
      "Epoch 13:\n",
      "\tTrain: Average Accuracy: 0.491375\tAverage Loss: 0.7006707540068898\n",
      "\tTest: Average Accuracy: 0.48115079365079366\tAverage Loss: 0.7036154273234974\n",
      "Epoch 14:\n",
      "\tTrain: Average Accuracy: 0.491375\tAverage Loss: 0.7006707514374453\n",
      "\tTest: Average Accuracy: 0.48115079365079366\tAverage Loss: 0.7036154216106483\n",
      "Epoch 15:\n",
      "\tTrain: Average Accuracy: 0.491375\tAverage Loss: 0.7006707488672778\n",
      "\tTest: Average Accuracy: 0.48115079365079366\tAverage Loss: 0.7036154158956481\n",
      "Epoch 1:\n",
      "\tTrain: Average Accuracy: 0.491875\tAverage Loss: 0.7007298383921757\n",
      "\tTest: Average Accuracy: 0.48115079365079366\tAverage Loss: 0.7035848836083703\n",
      "Epoch 2:\n",
      "\tTrain: Average Accuracy: 0.492625\tAverage Loss: 0.7006630857503663\n",
      "\tTest: Average Accuracy: 0.48115079365079366\tAverage Loss: 0.7035846628640766\n",
      "Epoch 3:\n",
      "\tTrain: Average Accuracy: 0.492625\tAverage Loss: 0.7006630037568584\n",
      "\tTest: Average Accuracy: 0.48115079365079366\tAverage Loss: 0.7035844418408754\n",
      "Epoch 4:\n",
      "\tTrain: Average Accuracy: 0.492625\tAverage Loss: 0.7006629216400198\n",
      "\tTest: Average Accuracy: 0.48115079365079366\tAverage Loss: 0.7035842205315183\n",
      "Epoch 5:\n",
      "\tTrain: Average Accuracy: 0.492625\tAverage Loss: 0.7006628393961492\n",
      "\tTest: Average Accuracy: 0.48115079365079366\tAverage Loss: 0.7035839989286932\n",
      "Epoch 6:\n",
      "\tTrain: Average Accuracy: 0.492625\tAverage Loss: 0.7006627570215126\n",
      "\tTest: Average Accuracy: 0.48115079365079366\tAverage Loss: 0.7035837770250237\n",
      "Epoch 7:\n",
      "\tTrain: Average Accuracy: 0.492625\tAverage Loss: 0.7006626745123423\n",
      "\tTest: Average Accuracy: 0.48115079365079366\tAverage Loss: 0.7035835548130664\n",
      "Epoch 8:\n",
      "\tTrain: Average Accuracy: 0.492625\tAverage Loss: 0.7006625918648349\n",
      "\tTest: Average Accuracy: 0.48115079365079366\tAverage Loss: 0.7035833322853086\n",
      "Epoch 9:\n",
      "\tTrain: Average Accuracy: 0.492625\tAverage Loss: 0.7006625090751504\n",
      "\tTest: Average Accuracy: 0.48115079365079366\tAverage Loss: 0.7035831094341666\n",
      "Epoch 10:\n",
      "\tTrain: Average Accuracy: 0.492625\tAverage Loss: 0.7006624261394122\n",
      "\tTest: Average Accuracy: 0.48115079365079366\tAverage Loss: 0.7035828862519836\n",
      "Epoch 11:\n",
      "\tTrain: Average Accuracy: 0.492625\tAverage Loss: 0.700662343053704\n",
      "\tTest: Average Accuracy: 0.48115079365079366\tAverage Loss: 0.7035826627310271\n",
      "Epoch 12:\n",
      "\tTrain: Average Accuracy: 0.492625\tAverage Loss: 0.7006622598140705\n",
      "\tTest: Average Accuracy: 0.48115079365079366\tAverage Loss: 0.703582438863487\n",
      "Epoch 13:\n",
      "\tTrain: Average Accuracy: 0.492625\tAverage Loss: 0.7006621764165148\n",
      "\tTest: Average Accuracy: 0.48115079365079366\tAverage Loss: 0.7035822146414742\n",
      "Epoch 14:\n",
      "\tTrain: Average Accuracy: 0.492625\tAverage Loss: 0.7006620928569982\n",
      "\tTest: Average Accuracy: 0.48115079365079366\tAverage Loss: 0.7035819900570155\n",
      "Epoch 15:\n",
      "\tTrain: Average Accuracy: 0.492625\tAverage Loss: 0.7006620091314383\n",
      "\tTest: Average Accuracy: 0.48115079365079366\tAverage Loss: 0.7035817651020547\n",
      "Epoch 1:\n",
      "\tTrain: Average Accuracy: 0.549375\tAverage Loss: 0.8694655554653213\n",
      "\tTest: Average Accuracy: 0.5922619047619048\tAverage Loss: 0.6683662054152372\n",
      "Epoch 2:\n",
      "\tTrain: Average Accuracy: 0.620375\tAverage Loss: 0.6449280366213324\n",
      "\tTest: Average Accuracy: 0.5922619047619048\tAverage Loss: 0.6488165056547688\n",
      "Epoch 3:\n",
      "\tTrain: Average Accuracy: 0.6495\tAverage Loss: 0.6191001799236865\n",
      "\tTest: Average Accuracy: 0.5987103174603174\tAverage Loss: 0.6306886451066628\n",
      "Epoch 4:\n",
      "\tTrain: Average Accuracy: 0.6725\tAverage Loss: 0.5962230414180165\n",
      "\tTest: Average Accuracy: 0.6468253968253969\tAverage Loss: 0.6036350404495431\n",
      "Epoch 5:\n",
      "\tTrain: Average Accuracy: 0.693\tAverage Loss: 0.5763806277268848\n",
      "\tTest: Average Accuracy: 0.6681547619047619\tAverage Loss: 0.5943852362573635\n",
      "Epoch 6:\n",
      "\tTrain: Average Accuracy: 0.709125\tAverage Loss: 0.5625446475752278\n",
      "\tTest: Average Accuracy: 0.683531746031746\tAverage Loss: 0.5916428922945983\n",
      "Epoch 7:\n",
      "\tTrain: Average Accuracy: 0.71375\tAverage Loss: 0.5521799550093842\n",
      "\tTest: Average Accuracy: 0.6800595238095238\tAverage Loss: 0.59488851348918\n",
      "Epoch 8:\n",
      "\tTrain: Average Accuracy: 0.719625\tAverage Loss: 0.5427599916879047\n",
      "\tTest: Average Accuracy: 0.6750992063492064\tAverage Loss: 0.6007492333434014\n",
      "Epoch 9:\n",
      "\tTrain: Average Accuracy: 0.726375\tAverage Loss: 0.5331281957825859\n",
      "\tTest: Average Accuracy: 0.6691468253968254\tAverage Loss: 0.6140403899398049\n",
      "Epoch 10:\n",
      "\tTrain: Average Accuracy: 0.73375\tAverage Loss: 0.5269021652441827\n",
      "\tTest: Average Accuracy: 0.6721230158730159\tAverage Loss: 0.6160923673660091\n",
      "Epoch 11:\n",
      "\tTrain: Average Accuracy: 0.7355\tAverage Loss: 0.5218608311309381\n",
      "\tTest: Average Accuracy: 0.6750992063492064\tAverage Loss: 0.6012814369634236\n",
      "Epoch 12:\n",
      "\tTrain: Average Accuracy: 0.739\tAverage Loss: 0.5175786177724396\n",
      "\tTest: Average Accuracy: 0.6716269841269841\tAverage Loss: 0.608339885315295\n",
      "Epoch 13:\n",
      "\tTrain: Average Accuracy: 0.74625\tAverage Loss: 0.5103685143340261\n",
      "\tTest: Average Accuracy: 0.6785714285714286\tAverage Loss: 0.6016922760295199\n",
      "Epoch 14:\n",
      "\tTrain: Average Accuracy: 0.747\tAverage Loss: 0.5057852646509781\n",
      "\tTest: Average Accuracy: 0.6954365079365079\tAverage Loss: 0.5753531426938006\n",
      "Epoch 15:\n",
      "\tTrain: Average Accuracy: 0.749875\tAverage Loss: 0.5020258449889319\n",
      "\tTest: Average Accuracy: 0.7033730158730159\tAverage Loss: 0.5667830833903917\n"
     ]
    }
   ],
   "source": [
    "BEST_LEARNING_RATE = 0.002\n",
    "activations = [Tanh(), Sigmoid(), LeakyRelu()]\n",
    "logs_activation = []\n",
    "for activation_function in activations:\n",
    "    network = FeedForwardNN(INPUT_SHAPE)\n",
    "    network.add_layer(n_neurons = 16, activation = activation_function, weight_initializer='uniform')\n",
    "    network.add_layer(n_neurons = 2, activation = Identical(), weight_initializer='uniform')\n",
    "    network.set_training_param(loss=CrossEntropy(), lr=BEST_LEARNING_RATE)\n",
    "\n",
    "    log = network.fit(EPOCHS, TRAINLOADER, TESTLOADER)\n",
    "    logs_activation.append(log)"
   ]
  },
  {
   "cell_type": "code",
   "execution_count": 43,
   "metadata": {
    "ExecuteTime": {
     "end_time": "2021-12-31T20:36:15.667630Z",
     "start_time": "2021-12-31T20:36:15.243613Z"
    },
    "scrolled": true
   },
   "outputs": [
    {
     "data": {
      "image/png": "[encoded data removed]",
      "text/plain": [
       "<Figure size 576x396 with 1 Axes>"
      ]
     },
     "metadata": {},
     "output_type": "display_data"
    },
    {
     "data": {
      "image/png": "[encoded data removed]",
      "text/plain": [
       "<Figure size 576x396 with 1 Axes>"
      ]
     },
     "metadata": {},
     "output_type": "display_data"
    },
    {
     "data": {
      "image/png": "[encoded data removed]",
      "text/plain": [
       "<Figure size 576x396 with 1 Axes>"
      ]
     },
     "metadata": {},
     "output_type": "display_data"
    }
   ],
   "source": [
    "i = 0\n",
    "for log in logs_activation:\n",
    "    plt.plot(log['train_accuracy'], label='Train')\n",
    "    plt.plot(log['test_accuracy'], label='Test')\n",
    "    plt.xlabel(\"Epoch\")\n",
    "    plt.ylabel(\"Accuracy\")\n",
    "    if i == 0:\n",
    "        plt.title(\"Activation Function : Tanh\")\n",
    "    if i == 1:\n",
    "        plt.title(\"Activation Function : Sigmoid\")\n",
    "    if i == 2:\n",
    "        plt.title(\"Activation Function : LeakyRelu\")\n",
    "    plt.legend()\n",
    "    plt.show()\n",
    "    i += 1"
   ]
  },
  {
   "cell_type": "markdown",
   "metadata": {},
   "source": [
    "## The effect of batch size"
   ]
  },
  {
   "cell_type": "code",
   "execution_count": 47,
   "metadata": {
    "ExecuteTime": {
     "end_time": "2021-12-31T20:45:29.146869Z",
     "start_time": "2021-12-31T20:43:48.167386Z"
    },
    "collapsed": true
   },
   "outputs": [
    {
     "name": "stdout",
     "output_type": "stream",
     "text": [
      "Epoch 1:\n",
      "\tTrain: Average Accuracy: 0.554125\tAverage Loss: 0.9013622404054522\n",
      "\tTest: Average Accuracy: 0.608\tAverage Loss: 0.6577822821254473\n",
      "Epoch 2:\n",
      "\tTrain: Average Accuracy: 0.630125\tAverage Loss: 0.6414153977403546\n",
      "\tTest: Average Accuracy: 0.6365\tAverage Loss: 0.6202698965779028\n",
      "Epoch 3:\n",
      "\tTrain: Average Accuracy: 0.6605\tAverage Loss: 0.6101894438879077\n",
      "\tTest: Average Accuracy: 0.658\tAverage Loss: 0.599559002235304\n",
      "Epoch 4:\n",
      "\tTrain: Average Accuracy: 0.684\tAverage Loss: 0.5833796572595835\n",
      "\tTest: Average Accuracy: 0.6845\tAverage Loss: 0.58139945627112\n",
      "Epoch 5:\n",
      "\tTrain: Average Accuracy: 0.704\tAverage Loss: 0.5640557538433549\n",
      "\tTest: Average Accuracy: 0.702\tAverage Loss: 0.565642053201146\n",
      "Epoch 6:\n",
      "\tTrain: Average Accuracy: 0.712125\tAverage Loss: 0.5529737120219729\n",
      "\tTest: Average Accuracy: 0.7045\tAverage Loss: 0.564498315763191\n",
      "Epoch 7:\n",
      "\tTrain: Average Accuracy: 0.72125\tAverage Loss: 0.5439805133393728\n",
      "\tTest: Average Accuracy: 0.701\tAverage Loss: 0.5664369471312641\n",
      "Epoch 8:\n",
      "\tTrain: Average Accuracy: 0.72425\tAverage Loss: 0.5345625340390131\n",
      "\tTest: Average Accuracy: 0.7065\tAverage Loss: 0.569726254790934\n",
      "Epoch 9:\n",
      "\tTrain: Average Accuracy: 0.727875\tAverage Loss: 0.527738022172214\n",
      "\tTest: Average Accuracy: 0.713\tAverage Loss: 0.5658350593032213\n",
      "Epoch 10:\n",
      "\tTrain: Average Accuracy: 0.73\tAverage Loss: 0.5216347353398076\n",
      "\tTest: Average Accuracy: 0.698\tAverage Loss: 0.5792461384571748\n",
      "Epoch 11:\n",
      "\tTrain: Average Accuracy: 0.738375\tAverage Loss: 0.5150928924564063\n",
      "\tTest: Average Accuracy: 0.704\tAverage Loss: 0.5757158548457997\n",
      "Epoch 12:\n",
      "\tTrain: Average Accuracy: 0.74225\tAverage Loss: 0.5088696017732363\n",
      "\tTest: Average Accuracy: 0.7055\tAverage Loss: 0.5714682470364105\n",
      "Epoch 13:\n",
      "\tTrain: Average Accuracy: 0.7505\tAverage Loss: 0.5026217199407212\n",
      "\tTest: Average Accuracy: 0.7035\tAverage Loss: 0.5780639187268427\n",
      "Epoch 14:\n",
      "\tTrain: Average Accuracy: 0.755625\tAverage Loss: 0.4978868026046456\n",
      "\tTest: Average Accuracy: 0.7065\tAverage Loss: 0.5734934205808645\n",
      "Epoch 15:\n",
      "\tTrain: Average Accuracy: 0.757625\tAverage Loss: 0.49189895434106656\n",
      "\tTest: Average Accuracy: 0.71\tAverage Loss: 0.5725889116098111\n",
      "Epoch 1:\n",
      "\tTrain: Average Accuracy: 0.5179443359375\tAverage Loss: 4.008328523578559\n",
      "\tTest: Average Accuracy: 0.5183293269230769\tAverage Loss: 0.7925828607926593\n",
      "Epoch 2:\n",
      "\tTrain: Average Accuracy: 0.525634765625\tAverage Loss: 0.857570397048043\n",
      "\tTest: Average Accuracy: 0.5388371394230769\tAverage Loss: 0.7808709349641975\n",
      "Epoch 3:\n",
      "\tTrain: Average Accuracy: 0.5263671875\tAverage Loss: 0.8181237809044596\n",
      "\tTest: Average Accuracy: 0.5340670072115384\tAverage Loss: 0.7785752798852826\n",
      "Epoch 4:\n",
      "\tTrain: Average Accuracy: 0.517822265625\tAverage Loss: 0.8583410597197224\n",
      "\tTest: Average Accuracy: 0.5104792668269231\tAverage Loss: 0.757227961857772\n",
      "Epoch 5:\n",
      "\tTrain: Average Accuracy: 0.508056640625\tAverage Loss: 0.8887262826746928\n",
      "\tTest: Average Accuracy: 0.52783203125\tAverage Loss: 0.7572132346407432\n",
      "Epoch 6:\n",
      "\tTrain: Average Accuracy: 0.510009765625\tAverage Loss: 0.8308623795117785\n",
      "\tTest: Average Accuracy: 0.5157001201923077\tAverage Loss: 0.7382955507850442\n",
      "Epoch 7:\n",
      "\tTrain: Average Accuracy: 0.503662109375\tAverage Loss: 0.8482404591644082\n",
      "\tTest: Average Accuracy: 0.5286583533653846\tAverage Loss: 0.7374195718440184\n",
      "Epoch 8:\n",
      "\tTrain: Average Accuracy: 0.510498046875\tAverage Loss: 0.7859545492543429\n",
      "\tTest: Average Accuracy: 0.5179912860576923\tAverage Loss: 0.725279837521436\n",
      "Epoch 9:\n",
      "\tTrain: Average Accuracy: 0.502197265625\tAverage Loss: 0.8135994825839203\n",
      "\tTest: Average Accuracy: 0.5303861177884616\tAverage Loss: 0.7223716101528261\n",
      "Epoch 10:\n",
      "\tTrain: Average Accuracy: 0.53466796875\tAverage Loss: 0.6972673670394118\n",
      "\tTest: Average Accuracy: 0.5021033653846154\tAverage Loss: 0.6922913738279891\n",
      "Epoch 11:\n",
      "\tTrain: Average Accuracy: 0.506103515625\tAverage Loss: 0.7765643116428966\n",
      "\tTest: Average Accuracy: 0.52490234375\tAverage Loss: 0.7165134726633602\n",
      "Epoch 12:\n",
      "\tTrain: Average Accuracy: 0.520263671875\tAverage Loss: 0.7124541947420391\n",
      "\tTest: Average Accuracy: 0.5284329927884616\tAverage Loss: 0.7115664346296315\n",
      "Epoch 13:\n",
      "\tTrain: Average Accuracy: 0.5191650390625\tAverage Loss: 0.7216927264716831\n",
      "\tTest: Average Accuracy: 0.5201322115384616\tAverage Loss: 0.7117920723359706\n",
      "Epoch 14:\n",
      "\tTrain: Average Accuracy: 0.5179443359375\tAverage Loss: 0.719231575093064\n",
      "\tTest: Average Accuracy: 0.5226862980769231\tAverage Loss: 0.7094020755444292\n",
      "Epoch 15:\n",
      "\tTrain: Average Accuracy: 0.51708984375\tAverage Loss: 0.721314424846879\n",
      "\tTest: Average Accuracy: 0.52392578125\tAverage Loss: 0.7073992466749988\n"
     ]
    }
   ],
   "source": [
    "BEST_ACTIVATION = LeakyRelu()\n",
    "BEST_LEARNING_RATE = 0.002\n",
    "batch_sizes = [16, 256]\n",
    "batch_logs= []\n",
    "for batch_size in batch_sizes:\n",
    "\n",
    "    TRAINLOADER = Dataloader(data = pd.DataFrame(X_train), labels = pd.DataFrame(y_train),\n",
    "                             n_classes = 2, batch_size = batch_size, shuffle = False)\n",
    "    TESTLOADER = Dataloader(data = pd.DataFrame(X_test), labels = pd.DataFrame(y_test),\n",
    "                            n_classes = 2, batch_size = batch_size, shuffle = False)\n",
    "    network = FeedForwardNN(INPUT_SHAPE)\n",
    "    network.add_layer(n_neurons = 16, activation = BEST_ACTIVATION, weight_initializer='uniform')\n",
    "    network.add_layer(n_neurons = 2, activation = Identical(), weight_initializer='uniform')\n",
    "    network.set_training_param(loss=CrossEntropy(), lr=BEST_LEARNING_RATE)\n",
    "\n",
    "    log = network.fit(EPOCHS, TRAINLOADER, TESTLOADER)\n",
    "    batch_logs.append(log)"
   ]
  },
  {
   "cell_type": "markdown",
   "metadata": {},
   "source": [
    "### Why Sigmoid and Tanh are not good here?\n",
    "#### The main reason why we use sigmoid or tanh functions is because they are exist between (0 to 1). Therefore, they are especially used for models where we have to predict the probability as an output. Since probability of anything exists only between the range of 0 and 1, sigmoid and tanh are the good."
   ]
  },
  {
   "cell_type": "markdown",
   "metadata": {},
   "source": [
    "### What is the advantage of LeakyRelu over Relu?\n",
    "#### 1- It fixes the “dying ReLU” problem, as it doesn’t have zero-slope parts.(The downside for being zero for all negative values is a problem called “dying ReLU.” A ReLU neuron is “dead” if it’s stuck in the negative side and always outputs 0.)\n",
    "#### 2- It speeds up training. There is evidence that having the “mean activation” be close to 0 makes training faster. Unlike ReLU, leaky ReLU is more “balanced,” and may therefore learn faster."
   ]
  },
  {
   "cell_type": "code",
   "execution_count": 48,
   "metadata": {
    "ExecuteTime": {
     "end_time": "2021-12-31T20:45:34.837284Z",
     "start_time": "2021-12-31T20:45:34.513288Z"
    }
   },
   "outputs": [
    {
     "data": {
      "image/png": "[encoded data removed]",
      "text/plain": [
       "<Figure size 576x396 with 1 Axes>"
      ]
     },
     "metadata": {},
     "output_type": "display_data"
    },
    {
     "data": {
      "image/png": "[encoded data removed]",
      "text/plain": [
       "<Figure size 576x396 with 1 Axes>"
      ]
     },
     "metadata": {},
     "output_type": "display_data"
    }
   ],
   "source": [
    "i = 0\n",
    "for log in batch_logs:\n",
    "    \n",
    "    plt.plot(log['train_accuracy'], label='Train')\n",
    "    plt.plot(log['test_accuracy'], label='Test')\n",
    "    plt.xlabel(\"Epoch\")\n",
    "    plt.ylabel(\"Accuracy\")\n",
    "    if i == 0:\n",
    "        plt.title(\"Batch Size : 16\")\n",
    "    if i == 1:\n",
    "        plt.title(\"Batch Size : 256\")\n",
    "\n",
    "    plt.legend()\n",
    "    plt.show()\n",
    "    i += 1"
   ]
  },
  {
   "cell_type": "markdown",
   "metadata": {},
   "source": [
    "### Why we use batch?\n",
    "#### Advantages of using a batch size < number of all samples: It requires less memory. Since you train the network using fewer samples, the overall training procedure requires less memory. That's especially important if you are not able to fit the whole dataset in your machine's memory.\n",
    "#### Typically networks train faster with mini-batches.  If we used all samples during propagation we would make only 1 update for the network's parameter."
   ]
  },
  {
   "cell_type": "markdown",
   "metadata": {},
   "source": [
    "### What are the disadvantages of using small batches?\n",
    "#### Your gradient estimation is very noisy. This may cause your model to either diverge or to converge at a non optimal minima.\n",
    "#### Sample bias! You are over-fitting the mini-batch distribution and not the actual distribution of the dataset. This means reduced accuracy.\n",
    "#### You lose the effectiveness of vectorization."
   ]
  },
  {
   "cell_type": "markdown",
   "metadata": {},
   "source": [
    "## Best combination"
   ]
  },
  {
   "cell_type": "code",
   "execution_count": 53,
   "metadata": {
    "ExecuteTime": {
     "end_time": "2021-12-31T21:26:36.551558Z",
     "start_time": "2021-12-31T21:26:19.700574Z"
    }
   },
   "outputs": [
    {
     "name": "stdout",
     "output_type": "stream",
     "text": [
      "Epoch 1:\n",
      "\tTrain: Average Accuracy: 0.55425\tAverage Loss: 0.915382394194878\n",
      "\tTest: Average Accuracy: 0.5985\tAverage Loss: 0.6655395103155872\n",
      "Epoch 2:\n",
      "\tTrain: Average Accuracy: 0.629625\tAverage Loss: 0.6439722664413555\n",
      "\tTest: Average Accuracy: 0.6365\tAverage Loss: 0.6203176336452463\n",
      "Epoch 3:\n"
     ]
    },
    {
     "ename": "KeyboardInterrupt",
     "evalue": "",
     "output_type": "error",
     "traceback": [
      "\u001b[0;31m---------------------------------------------------------------------------\u001b[0m",
      "\u001b[0;31mKeyboardInterrupt\u001b[0m                         Traceback (most recent call last)",
      "\u001b[0;32m/var/folders/ll/knvtrnwd0v30yyqkhds7_sgc0000gn/T/ipykernel_2807/3124313592.py\u001b[0m in \u001b[0;36m<module>\u001b[0;34m\u001b[0m\n\u001b[1;32m     14\u001b[0m \u001b[0mnetwork\u001b[0m\u001b[0;34m.\u001b[0m\u001b[0mset_training_param\u001b[0m\u001b[0;34m(\u001b[0m\u001b[0mloss\u001b[0m\u001b[0;34m=\u001b[0m\u001b[0mCrossEntropy\u001b[0m\u001b[0;34m(\u001b[0m\u001b[0;34m)\u001b[0m\u001b[0;34m,\u001b[0m \u001b[0mlr\u001b[0m\u001b[0;34m=\u001b[0m\u001b[0mBEST_LEARNING_RATE\u001b[0m\u001b[0;34m)\u001b[0m\u001b[0;34m\u001b[0m\u001b[0;34m\u001b[0m\u001b[0m\n\u001b[1;32m     15\u001b[0m \u001b[0;34m\u001b[0m\u001b[0m\n\u001b[0;32m---> 16\u001b[0;31m \u001b[0mbest_log\u001b[0m \u001b[0;34m=\u001b[0m \u001b[0mnetwork\u001b[0m\u001b[0;34m.\u001b[0m\u001b[0mfit\u001b[0m\u001b[0;34m(\u001b[0m\u001b[0mEPOCHS\u001b[0m\u001b[0;34m,\u001b[0m \u001b[0mTRAINLOADER\u001b[0m\u001b[0;34m,\u001b[0m \u001b[0mTESTLOADER\u001b[0m\u001b[0;34m)\u001b[0m\u001b[0;34m\u001b[0m\u001b[0;34m\u001b[0m\u001b[0m\n\u001b[0m",
      "\u001b[0;32m/var/folders/ll/knvtrnwd0v30yyqkhds7_sgc0000gn/T/ipykernel_2807/2650188497.py\u001b[0m in \u001b[0;36mfit\u001b[0;34m(self, epochs, trainloader, testloader, print_results)\u001b[0m\n\u001b[1;32m     91\u001b[0m                 \u001b[0mprint\u001b[0m\u001b[0;34m(\u001b[0m\u001b[0;34m'Epoch {}:'\u001b[0m\u001b[0;34m.\u001b[0m\u001b[0mformat\u001b[0m\u001b[0;34m(\u001b[0m\u001b[0mepoch\u001b[0m\u001b[0;34m)\u001b[0m\u001b[0;34m)\u001b[0m\u001b[0;34m\u001b[0m\u001b[0;34m\u001b[0m\u001b[0m\n\u001b[1;32m     92\u001b[0m \u001b[0;34m\u001b[0m\u001b[0m\n\u001b[0;32m---> 93\u001b[0;31m             \u001b[0maverage_accuracy\u001b[0m\u001b[0;34m,\u001b[0m \u001b[0maverage_loss\u001b[0m \u001b[0;34m=\u001b[0m \u001b[0mself\u001b[0m\u001b[0;34m.\u001b[0m\u001b[0m__train\u001b[0m\u001b[0;34m(\u001b[0m\u001b[0mtrainloader\u001b[0m\u001b[0;34m)\u001b[0m\u001b[0;34m\u001b[0m\u001b[0;34m\u001b[0m\u001b[0m\n\u001b[0m\u001b[1;32m     94\u001b[0m             \u001b[0mlog\u001b[0m\u001b[0;34m[\u001b[0m\u001b[0;34m'train_accuracy'\u001b[0m\u001b[0;34m]\u001b[0m\u001b[0;34m.\u001b[0m\u001b[0mappend\u001b[0m\u001b[0;34m(\u001b[0m\u001b[0maverage_accuracy\u001b[0m\u001b[0;34m)\u001b[0m\u001b[0;34m\u001b[0m\u001b[0;34m\u001b[0m\u001b[0m\n\u001b[1;32m     95\u001b[0m             \u001b[0mlog\u001b[0m\u001b[0;34m[\u001b[0m\u001b[0;34m'train_loss'\u001b[0m\u001b[0;34m]\u001b[0m\u001b[0;34m.\u001b[0m\u001b[0mappend\u001b[0m\u001b[0;34m(\u001b[0m\u001b[0maverage_loss\u001b[0m\u001b[0;34m)\u001b[0m\u001b[0;34m\u001b[0m\u001b[0;34m\u001b[0m\u001b[0m\n",
      "\u001b[0;32m/var/folders/ll/knvtrnwd0v30yyqkhds7_sgc0000gn/T/ipykernel_2807/2650188497.py\u001b[0m in \u001b[0;36m__train\u001b[0;34m(self, trainloader)\u001b[0m\n\u001b[1;32m    116\u001b[0m         '''\n\u001b[1;32m    117\u001b[0m         \u001b[0mbatch_accuracies\u001b[0m\u001b[0;34m,\u001b[0m \u001b[0mbatch_losses\u001b[0m \u001b[0;34m=\u001b[0m \u001b[0;34m[\u001b[0m\u001b[0;34m]\u001b[0m\u001b[0;34m,\u001b[0m \u001b[0;34m[\u001b[0m\u001b[0;34m]\u001b[0m\u001b[0;34m\u001b[0m\u001b[0;34m\u001b[0m\u001b[0m\n\u001b[0;32m--> 118\u001b[0;31m         \u001b[0;32mfor\u001b[0m \u001b[0mx_train\u001b[0m\u001b[0;34m,\u001b[0m \u001b[0my_train\u001b[0m \u001b[0;32min\u001b[0m \u001b[0mtrainloader\u001b[0m\u001b[0;34m:\u001b[0m\u001b[0;34m\u001b[0m\u001b[0;34m\u001b[0m\u001b[0m\n\u001b[0m\u001b[1;32m    119\u001b[0m             \u001b[0mbatch_accuracy\u001b[0m\u001b[0;34m,\u001b[0m \u001b[0mbatch_loss\u001b[0m \u001b[0;34m=\u001b[0m \u001b[0mself\u001b[0m\u001b[0;34m.\u001b[0m\u001b[0m__train_on_batch\u001b[0m\u001b[0;34m(\u001b[0m\u001b[0mx_train\u001b[0m\u001b[0;34m,\u001b[0m \u001b[0my_train\u001b[0m\u001b[0;34m)\u001b[0m\u001b[0;34m\u001b[0m\u001b[0;34m\u001b[0m\u001b[0m\n\u001b[1;32m    120\u001b[0m             \u001b[0mbatch_accuracies\u001b[0m\u001b[0;34m.\u001b[0m\u001b[0mappend\u001b[0m\u001b[0;34m(\u001b[0m\u001b[0mbatch_accuracy\u001b[0m\u001b[0;34m)\u001b[0m\u001b[0;34m\u001b[0m\u001b[0;34m\u001b[0m\u001b[0m\n",
      "\u001b[0;32m/var/folders/ll/knvtrnwd0v30yyqkhds7_sgc0000gn/T/ipykernel_2807/1691787726.py\u001b[0m in \u001b[0;36m__iter__\u001b[0;34m(self)\u001b[0m\n\u001b[1;32m     78\u001b[0m \u001b[0;34m\u001b[0m\u001b[0m\n\u001b[1;32m     79\u001b[0m         \u001b[0;32mfor\u001b[0m \u001b[0midx\u001b[0m \u001b[0;32min\u001b[0m \u001b[0mrange\u001b[0m\u001b[0;34m(\u001b[0m\u001b[0;36m0\u001b[0m\u001b[0;34m,\u001b[0m \u001b[0mlen\u001b[0m\u001b[0;34m(\u001b[0m\u001b[0mself\u001b[0m\u001b[0;34m.\u001b[0m\u001b[0m__data\u001b[0m\u001b[0;34m)\u001b[0m\u001b[0;34m,\u001b[0m \u001b[0mself\u001b[0m\u001b[0;34m.\u001b[0m\u001b[0m__batch_size\u001b[0m\u001b[0;34m)\u001b[0m\u001b[0;34m:\u001b[0m\u001b[0;34m\u001b[0m\u001b[0;34m\u001b[0m\u001b[0m\n\u001b[0;32m---> 80\u001b[0;31m             yield (np.matrix(self.__data[idx:idx+self.__batch_size], dtype=float), \n\u001b[0m\u001b[1;32m     81\u001b[0m                    np.matrix(self.__onehot_labels[idx:idx+self.__batch_size], dtype=float))\n",
      "\u001b[0;32m/Library/Frameworks/Python.framework/Versions/3.9/lib/python3.9/site-packages/numpy/matrixlib/defmatrix.py\u001b[0m in \u001b[0;36m__new__\u001b[0;34m(subtype, data, dtype, copy)\u001b[0m\n\u001b[1;32m    143\u001b[0m \u001b[0;34m\u001b[0m\u001b[0m\n\u001b[1;32m    144\u001b[0m         \u001b[0;31m# now convert data to an array\u001b[0m\u001b[0;34m\u001b[0m\u001b[0;34m\u001b[0m\u001b[0;34m\u001b[0m\u001b[0m\n\u001b[0;32m--> 145\u001b[0;31m         \u001b[0marr\u001b[0m \u001b[0;34m=\u001b[0m \u001b[0mN\u001b[0m\u001b[0;34m.\u001b[0m\u001b[0marray\u001b[0m\u001b[0;34m(\u001b[0m\u001b[0mdata\u001b[0m\u001b[0;34m,\u001b[0m \u001b[0mdtype\u001b[0m\u001b[0;34m=\u001b[0m\u001b[0mdtype\u001b[0m\u001b[0;34m,\u001b[0m \u001b[0mcopy\u001b[0m\u001b[0;34m=\u001b[0m\u001b[0mcopy\u001b[0m\u001b[0;34m)\u001b[0m\u001b[0;34m\u001b[0m\u001b[0;34m\u001b[0m\u001b[0m\n\u001b[0m\u001b[1;32m    146\u001b[0m         \u001b[0mndim\u001b[0m \u001b[0;34m=\u001b[0m \u001b[0marr\u001b[0m\u001b[0;34m.\u001b[0m\u001b[0mndim\u001b[0m\u001b[0;34m\u001b[0m\u001b[0;34m\u001b[0m\u001b[0m\n\u001b[1;32m    147\u001b[0m         \u001b[0mshape\u001b[0m \u001b[0;34m=\u001b[0m \u001b[0marr\u001b[0m\u001b[0;34m.\u001b[0m\u001b[0mshape\u001b[0m\u001b[0;34m\u001b[0m\u001b[0;34m\u001b[0m\u001b[0m\n",
      "\u001b[0;32m/Library/Frameworks/Python.framework/Versions/3.9/lib/python3.9/site-packages/pandas/core/generic.py\u001b[0m in \u001b[0;36m__array__\u001b[0;34m(self, dtype)\u001b[0m\n\u001b[1;32m   1991\u001b[0m \u001b[0;34m\u001b[0m\u001b[0m\n\u001b[1;32m   1992\u001b[0m     \u001b[0;32mdef\u001b[0m \u001b[0m__array__\u001b[0m\u001b[0;34m(\u001b[0m\u001b[0mself\u001b[0m\u001b[0;34m,\u001b[0m \u001b[0mdtype\u001b[0m\u001b[0;34m:\u001b[0m \u001b[0mNpDtype\u001b[0m \u001b[0;34m|\u001b[0m \u001b[0;32mNone\u001b[0m \u001b[0;34m=\u001b[0m \u001b[0;32mNone\u001b[0m\u001b[0;34m)\u001b[0m \u001b[0;34m->\u001b[0m \u001b[0mnp\u001b[0m\u001b[0;34m.\u001b[0m\u001b[0mndarray\u001b[0m\u001b[0;34m:\u001b[0m\u001b[0;34m\u001b[0m\u001b[0;34m\u001b[0m\u001b[0m\n\u001b[0;32m-> 1993\u001b[0;31m         \u001b[0;32mreturn\u001b[0m \u001b[0mnp\u001b[0m\u001b[0;34m.\u001b[0m\u001b[0masarray\u001b[0m\u001b[0;34m(\u001b[0m\u001b[0mself\u001b[0m\u001b[0;34m.\u001b[0m\u001b[0m_values\u001b[0m\u001b[0;34m,\u001b[0m \u001b[0mdtype\u001b[0m\u001b[0;34m=\u001b[0m\u001b[0mdtype\u001b[0m\u001b[0;34m)\u001b[0m\u001b[0;34m\u001b[0m\u001b[0;34m\u001b[0m\u001b[0m\n\u001b[0m\u001b[1;32m   1994\u001b[0m \u001b[0;34m\u001b[0m\u001b[0m\n\u001b[1;32m   1995\u001b[0m     def __array_wrap__(\n",
      "\u001b[0;32m/Library/Frameworks/Python.framework/Versions/3.9/lib/python3.9/site-packages/pandas/core/frame.py\u001b[0m in \u001b[0;36m_values\u001b[0;34m(self)\u001b[0m\n\u001b[1;32m    879\u001b[0m         \u001b[0mAnalogue\u001b[0m \u001b[0mto\u001b[0m \u001b[0;34m.\u001b[0m\u001b[0m_values\u001b[0m \u001b[0mthat\u001b[0m \u001b[0mmay\u001b[0m \u001b[0;32mreturn\u001b[0m \u001b[0ma\u001b[0m \u001b[0;36m2\u001b[0m\u001b[0mD\u001b[0m \u001b[0mExtensionArray\u001b[0m\u001b[0;34m.\u001b[0m\u001b[0;34m\u001b[0m\u001b[0;34m\u001b[0m\u001b[0m\n\u001b[1;32m    880\u001b[0m         \"\"\"\n\u001b[0;32m--> 881\u001b[0;31m         \u001b[0mself\u001b[0m\u001b[0;34m.\u001b[0m\u001b[0m_consolidate_inplace\u001b[0m\u001b[0;34m(\u001b[0m\u001b[0;34m)\u001b[0m\u001b[0;34m\u001b[0m\u001b[0;34m\u001b[0m\u001b[0m\n\u001b[0m\u001b[1;32m    882\u001b[0m \u001b[0;34m\u001b[0m\u001b[0m\n\u001b[1;32m    883\u001b[0m         \u001b[0mmgr\u001b[0m \u001b[0;34m=\u001b[0m \u001b[0mself\u001b[0m\u001b[0;34m.\u001b[0m\u001b[0m_mgr\u001b[0m\u001b[0;34m\u001b[0m\u001b[0;34m\u001b[0m\u001b[0m\n",
      "\u001b[0;32m/Library/Frameworks/Python.framework/Versions/3.9/lib/python3.9/site-packages/pandas/core/generic.py\u001b[0m in \u001b[0;36m_consolidate_inplace\u001b[0;34m(self)\u001b[0m\n\u001b[1;32m   5563\u001b[0m             \u001b[0mself\u001b[0m\u001b[0;34m.\u001b[0m\u001b[0m_mgr\u001b[0m \u001b[0;34m=\u001b[0m \u001b[0mself\u001b[0m\u001b[0;34m.\u001b[0m\u001b[0m_mgr\u001b[0m\u001b[0;34m.\u001b[0m\u001b[0mconsolidate\u001b[0m\u001b[0;34m(\u001b[0m\u001b[0;34m)\u001b[0m\u001b[0;34m\u001b[0m\u001b[0;34m\u001b[0m\u001b[0m\n\u001b[1;32m   5564\u001b[0m \u001b[0;34m\u001b[0m\u001b[0m\n\u001b[0;32m-> 5565\u001b[0;31m         \u001b[0mself\u001b[0m\u001b[0;34m.\u001b[0m\u001b[0m_protect_consolidate\u001b[0m\u001b[0;34m(\u001b[0m\u001b[0mf\u001b[0m\u001b[0;34m)\u001b[0m\u001b[0;34m\u001b[0m\u001b[0;34m\u001b[0m\u001b[0m\n\u001b[0m\u001b[1;32m   5566\u001b[0m \u001b[0;34m\u001b[0m\u001b[0m\n\u001b[1;32m   5567\u001b[0m     \u001b[0;34m@\u001b[0m\u001b[0mfinal\u001b[0m\u001b[0;34m\u001b[0m\u001b[0;34m\u001b[0m\u001b[0m\n",
      "\u001b[0;32m/Library/Frameworks/Python.framework/Versions/3.9/lib/python3.9/site-packages/pandas/core/generic.py\u001b[0m in \u001b[0;36m_protect_consolidate\u001b[0;34m(self, f)\u001b[0m\n\u001b[1;32m   5551\u001b[0m             \u001b[0;32mreturn\u001b[0m \u001b[0mf\u001b[0m\u001b[0;34m(\u001b[0m\u001b[0;34m)\u001b[0m\u001b[0;34m\u001b[0m\u001b[0;34m\u001b[0m\u001b[0m\n\u001b[1;32m   5552\u001b[0m         \u001b[0mblocks_before\u001b[0m \u001b[0;34m=\u001b[0m \u001b[0mlen\u001b[0m\u001b[0;34m(\u001b[0m\u001b[0mself\u001b[0m\u001b[0;34m.\u001b[0m\u001b[0m_mgr\u001b[0m\u001b[0;34m.\u001b[0m\u001b[0mblocks\u001b[0m\u001b[0;34m)\u001b[0m\u001b[0;34m\u001b[0m\u001b[0;34m\u001b[0m\u001b[0m\n\u001b[0;32m-> 5553\u001b[0;31m         \u001b[0mresult\u001b[0m \u001b[0;34m=\u001b[0m \u001b[0mf\u001b[0m\u001b[0;34m(\u001b[0m\u001b[0;34m)\u001b[0m\u001b[0;34m\u001b[0m\u001b[0;34m\u001b[0m\u001b[0m\n\u001b[0m\u001b[1;32m   5554\u001b[0m         \u001b[0;32mif\u001b[0m \u001b[0mlen\u001b[0m\u001b[0;34m(\u001b[0m\u001b[0mself\u001b[0m\u001b[0;34m.\u001b[0m\u001b[0m_mgr\u001b[0m\u001b[0;34m.\u001b[0m\u001b[0mblocks\u001b[0m\u001b[0;34m)\u001b[0m \u001b[0;34m!=\u001b[0m \u001b[0mblocks_before\u001b[0m\u001b[0;34m:\u001b[0m\u001b[0;34m\u001b[0m\u001b[0;34m\u001b[0m\u001b[0m\n\u001b[1;32m   5555\u001b[0m             \u001b[0mself\u001b[0m\u001b[0;34m.\u001b[0m\u001b[0m_clear_item_cache\u001b[0m\u001b[0;34m(\u001b[0m\u001b[0;34m)\u001b[0m\u001b[0;34m\u001b[0m\u001b[0;34m\u001b[0m\u001b[0m\n",
      "\u001b[0;32m/Library/Frameworks/Python.framework/Versions/3.9/lib/python3.9/site-packages/pandas/core/generic.py\u001b[0m in \u001b[0;36mf\u001b[0;34m()\u001b[0m\n\u001b[1;32m   5561\u001b[0m \u001b[0;34m\u001b[0m\u001b[0m\n\u001b[1;32m   5562\u001b[0m         \u001b[0;32mdef\u001b[0m \u001b[0mf\u001b[0m\u001b[0;34m(\u001b[0m\u001b[0;34m)\u001b[0m\u001b[0;34m:\u001b[0m\u001b[0;34m\u001b[0m\u001b[0;34m\u001b[0m\u001b[0m\n\u001b[0;32m-> 5563\u001b[0;31m             \u001b[0mself\u001b[0m\u001b[0;34m.\u001b[0m\u001b[0m_mgr\u001b[0m \u001b[0;34m=\u001b[0m \u001b[0mself\u001b[0m\u001b[0;34m.\u001b[0m\u001b[0m_mgr\u001b[0m\u001b[0;34m.\u001b[0m\u001b[0mconsolidate\u001b[0m\u001b[0;34m(\u001b[0m\u001b[0;34m)\u001b[0m\u001b[0;34m\u001b[0m\u001b[0;34m\u001b[0m\u001b[0m\n\u001b[0m\u001b[1;32m   5564\u001b[0m \u001b[0;34m\u001b[0m\u001b[0m\n\u001b[1;32m   5565\u001b[0m         \u001b[0mself\u001b[0m\u001b[0;34m.\u001b[0m\u001b[0m_protect_consolidate\u001b[0m\u001b[0;34m(\u001b[0m\u001b[0mf\u001b[0m\u001b[0;34m)\u001b[0m\u001b[0;34m\u001b[0m\u001b[0;34m\u001b[0m\u001b[0m\n",
      "\u001b[0;32m/Library/Frameworks/Python.framework/Versions/3.9/lib/python3.9/site-packages/pandas/core/internals/managers.py\u001b[0m in \u001b[0;36mconsolidate\u001b[0;34m(self)\u001b[0m\n\u001b[1;32m    617\u001b[0m         \u001b[0mbm\u001b[0m \u001b[0;34m=\u001b[0m \u001b[0mtype\u001b[0m\u001b[0;34m(\u001b[0m\u001b[0mself\u001b[0m\u001b[0;34m)\u001b[0m\u001b[0;34m(\u001b[0m\u001b[0mself\u001b[0m\u001b[0;34m.\u001b[0m\u001b[0mblocks\u001b[0m\u001b[0;34m,\u001b[0m \u001b[0mself\u001b[0m\u001b[0;34m.\u001b[0m\u001b[0maxes\u001b[0m\u001b[0;34m,\u001b[0m \u001b[0mverify_integrity\u001b[0m\u001b[0;34m=\u001b[0m\u001b[0;32mFalse\u001b[0m\u001b[0;34m)\u001b[0m\u001b[0;34m\u001b[0m\u001b[0;34m\u001b[0m\u001b[0m\n\u001b[1;32m    618\u001b[0m         \u001b[0mbm\u001b[0m\u001b[0;34m.\u001b[0m\u001b[0m_is_consolidated\u001b[0m \u001b[0;34m=\u001b[0m \u001b[0;32mFalse\u001b[0m\u001b[0;34m\u001b[0m\u001b[0;34m\u001b[0m\u001b[0m\n\u001b[0;32m--> 619\u001b[0;31m         \u001b[0mbm\u001b[0m\u001b[0;34m.\u001b[0m\u001b[0m_consolidate_inplace\u001b[0m\u001b[0;34m(\u001b[0m\u001b[0;34m)\u001b[0m\u001b[0;34m\u001b[0m\u001b[0;34m\u001b[0m\u001b[0m\n\u001b[0m\u001b[1;32m    620\u001b[0m         \u001b[0;32mreturn\u001b[0m \u001b[0mbm\u001b[0m\u001b[0;34m\u001b[0m\u001b[0;34m\u001b[0m\u001b[0m\n\u001b[1;32m    621\u001b[0m \u001b[0;34m\u001b[0m\u001b[0m\n",
      "\u001b[0;32m/Library/Frameworks/Python.framework/Versions/3.9/lib/python3.9/site-packages/pandas/core/internals/managers.py\u001b[0m in \u001b[0;36m_consolidate_inplace\u001b[0;34m(self)\u001b[0m\n\u001b[1;32m    622\u001b[0m     \u001b[0;32mdef\u001b[0m \u001b[0m_consolidate_inplace\u001b[0m\u001b[0;34m(\u001b[0m\u001b[0mself\u001b[0m\u001b[0;34m)\u001b[0m \u001b[0;34m->\u001b[0m \u001b[0;32mNone\u001b[0m\u001b[0;34m:\u001b[0m\u001b[0;34m\u001b[0m\u001b[0;34m\u001b[0m\u001b[0m\n\u001b[1;32m    623\u001b[0m         \u001b[0;32mif\u001b[0m \u001b[0;32mnot\u001b[0m \u001b[0mself\u001b[0m\u001b[0;34m.\u001b[0m\u001b[0mis_consolidated\u001b[0m\u001b[0;34m(\u001b[0m\u001b[0;34m)\u001b[0m\u001b[0;34m:\u001b[0m\u001b[0;34m\u001b[0m\u001b[0;34m\u001b[0m\u001b[0m\n\u001b[0;32m--> 624\u001b[0;31m             \u001b[0mself\u001b[0m\u001b[0;34m.\u001b[0m\u001b[0mblocks\u001b[0m \u001b[0;34m=\u001b[0m \u001b[0mtuple\u001b[0m\u001b[0;34m(\u001b[0m\u001b[0m_consolidate\u001b[0m\u001b[0;34m(\u001b[0m\u001b[0mself\u001b[0m\u001b[0;34m.\u001b[0m\u001b[0mblocks\u001b[0m\u001b[0;34m)\u001b[0m\u001b[0;34m)\u001b[0m\u001b[0;34m\u001b[0m\u001b[0;34m\u001b[0m\u001b[0m\n\u001b[0m\u001b[1;32m    625\u001b[0m             \u001b[0mself\u001b[0m\u001b[0;34m.\u001b[0m\u001b[0m_is_consolidated\u001b[0m \u001b[0;34m=\u001b[0m \u001b[0;32mTrue\u001b[0m\u001b[0;34m\u001b[0m\u001b[0;34m\u001b[0m\u001b[0m\n\u001b[1;32m    626\u001b[0m             \u001b[0mself\u001b[0m\u001b[0;34m.\u001b[0m\u001b[0m_known_consolidated\u001b[0m \u001b[0;34m=\u001b[0m \u001b[0;32mTrue\u001b[0m\u001b[0;34m\u001b[0m\u001b[0;34m\u001b[0m\u001b[0m\n",
      "\u001b[0;32m/Library/Frameworks/Python.framework/Versions/3.9/lib/python3.9/site-packages/pandas/core/internals/managers.py\u001b[0m in \u001b[0;36m_consolidate\u001b[0;34m(blocks)\u001b[0m\n\u001b[1;32m   1968\u001b[0m     \u001b[0;31m# sort by _can_consolidate, dtype\u001b[0m\u001b[0;34m\u001b[0m\u001b[0;34m\u001b[0m\u001b[0;34m\u001b[0m\u001b[0m\n\u001b[1;32m   1969\u001b[0m     \u001b[0mgkey\u001b[0m \u001b[0;34m=\u001b[0m \u001b[0;32mlambda\u001b[0m \u001b[0mx\u001b[0m\u001b[0;34m:\u001b[0m \u001b[0mx\u001b[0m\u001b[0;34m.\u001b[0m\u001b[0m_consolidate_key\u001b[0m\u001b[0;34m\u001b[0m\u001b[0;34m\u001b[0m\u001b[0m\n\u001b[0;32m-> 1970\u001b[0;31m     \u001b[0mgrouper\u001b[0m \u001b[0;34m=\u001b[0m \u001b[0mitertools\u001b[0m\u001b[0;34m.\u001b[0m\u001b[0mgroupby\u001b[0m\u001b[0;34m(\u001b[0m\u001b[0msorted\u001b[0m\u001b[0;34m(\u001b[0m\u001b[0mblocks\u001b[0m\u001b[0;34m,\u001b[0m \u001b[0mkey\u001b[0m\u001b[0;34m=\u001b[0m\u001b[0mgkey\u001b[0m\u001b[0;34m)\u001b[0m\u001b[0;34m,\u001b[0m \u001b[0mgkey\u001b[0m\u001b[0;34m)\u001b[0m\u001b[0;34m\u001b[0m\u001b[0;34m\u001b[0m\u001b[0m\n\u001b[0m\u001b[1;32m   1971\u001b[0m \u001b[0;34m\u001b[0m\u001b[0m\n\u001b[1;32m   1972\u001b[0m     \u001b[0mnew_blocks\u001b[0m\u001b[0;34m:\u001b[0m \u001b[0mlist\u001b[0m\u001b[0;34m[\u001b[0m\u001b[0mBlock\u001b[0m\u001b[0;34m]\u001b[0m \u001b[0;34m=\u001b[0m \u001b[0;34m[\u001b[0m\u001b[0;34m]\u001b[0m\u001b[0;34m\u001b[0m\u001b[0;34m\u001b[0m\u001b[0m\n",
      "\u001b[0;32m/Library/Frameworks/Python.framework/Versions/3.9/lib/python3.9/site-packages/pandas/core/internals/managers.py\u001b[0m in \u001b[0;36m<lambda>\u001b[0;34m(x)\u001b[0m\n\u001b[1;32m   1967\u001b[0m     \"\"\"\n\u001b[1;32m   1968\u001b[0m     \u001b[0;31m# sort by _can_consolidate, dtype\u001b[0m\u001b[0;34m\u001b[0m\u001b[0;34m\u001b[0m\u001b[0;34m\u001b[0m\u001b[0m\n\u001b[0;32m-> 1969\u001b[0;31m     \u001b[0mgkey\u001b[0m \u001b[0;34m=\u001b[0m \u001b[0;32mlambda\u001b[0m \u001b[0mx\u001b[0m\u001b[0;34m:\u001b[0m \u001b[0mx\u001b[0m\u001b[0;34m.\u001b[0m\u001b[0m_consolidate_key\u001b[0m\u001b[0;34m\u001b[0m\u001b[0;34m\u001b[0m\u001b[0m\n\u001b[0m\u001b[1;32m   1970\u001b[0m     \u001b[0mgrouper\u001b[0m \u001b[0;34m=\u001b[0m \u001b[0mitertools\u001b[0m\u001b[0;34m.\u001b[0m\u001b[0mgroupby\u001b[0m\u001b[0;34m(\u001b[0m\u001b[0msorted\u001b[0m\u001b[0;34m(\u001b[0m\u001b[0mblocks\u001b[0m\u001b[0;34m,\u001b[0m \u001b[0mkey\u001b[0m\u001b[0;34m=\u001b[0m\u001b[0mgkey\u001b[0m\u001b[0;34m)\u001b[0m\u001b[0;34m,\u001b[0m \u001b[0mgkey\u001b[0m\u001b[0;34m)\u001b[0m\u001b[0;34m\u001b[0m\u001b[0;34m\u001b[0m\u001b[0m\n\u001b[1;32m   1971\u001b[0m \u001b[0;34m\u001b[0m\u001b[0m\n",
      "\u001b[0;32m/Library/Frameworks/Python.framework/Versions/3.9/lib/python3.9/site-packages/pandas/_libs/properties.pyx\u001b[0m in \u001b[0;36mpandas._libs.properties.CachedProperty.__get__\u001b[0;34m()\u001b[0m\n",
      "\u001b[0;32m/Library/Frameworks/Python.framework/Versions/3.9/lib/python3.9/site-packages/pandas/core/internals/blocks.py\u001b[0m in \u001b[0;36m_consolidate_key\u001b[0;34m(self)\u001b[0m\n\u001b[1;32m    166\u001b[0m     \u001b[0;34m@\u001b[0m\u001b[0mcache_readonly\u001b[0m\u001b[0;34m\u001b[0m\u001b[0;34m\u001b[0m\u001b[0m\n\u001b[1;32m    167\u001b[0m     \u001b[0;32mdef\u001b[0m \u001b[0m_consolidate_key\u001b[0m\u001b[0;34m(\u001b[0m\u001b[0mself\u001b[0m\u001b[0;34m)\u001b[0m\u001b[0;34m:\u001b[0m\u001b[0;34m\u001b[0m\u001b[0;34m\u001b[0m\u001b[0m\n\u001b[0;32m--> 168\u001b[0;31m         \u001b[0;32mreturn\u001b[0m \u001b[0mself\u001b[0m\u001b[0;34m.\u001b[0m\u001b[0m_can_consolidate\u001b[0m\u001b[0;34m,\u001b[0m \u001b[0mself\u001b[0m\u001b[0;34m.\u001b[0m\u001b[0mdtype\u001b[0m\u001b[0;34m.\u001b[0m\u001b[0mname\u001b[0m\u001b[0;34m\u001b[0m\u001b[0;34m\u001b[0m\u001b[0m\n\u001b[0m\u001b[1;32m    169\u001b[0m \u001b[0;34m\u001b[0m\u001b[0m\n\u001b[1;32m    170\u001b[0m     \u001b[0;34m@\u001b[0m\u001b[0mproperty\u001b[0m\u001b[0;34m\u001b[0m\u001b[0;34m\u001b[0m\u001b[0m\n",
      "\u001b[0;32m/Library/Frameworks/Python.framework/Versions/3.9/lib/python3.9/site-packages/numpy/core/_dtype.py\u001b[0m in \u001b[0;36m_name_get\u001b[0;34m(dtype)\u001b[0m\n\u001b[1;32m    333\u001b[0m \u001b[0;34m\u001b[0m\u001b[0m\n\u001b[1;32m    334\u001b[0m     \u001b[0;31m# append bit counts\u001b[0m\u001b[0;34m\u001b[0m\u001b[0;34m\u001b[0m\u001b[0;34m\u001b[0m\u001b[0m\n\u001b[0;32m--> 335\u001b[0;31m     \u001b[0;32mif\u001b[0m \u001b[0m_name_includes_bit_suffix\u001b[0m\u001b[0;34m(\u001b[0m\u001b[0mdtype\u001b[0m\u001b[0;34m)\u001b[0m\u001b[0;34m:\u001b[0m\u001b[0;34m\u001b[0m\u001b[0;34m\u001b[0m\u001b[0m\n\u001b[0m\u001b[1;32m    336\u001b[0m         \u001b[0mname\u001b[0m \u001b[0;34m+=\u001b[0m \u001b[0;34m\"{}\"\u001b[0m\u001b[0;34m.\u001b[0m\u001b[0mformat\u001b[0m\u001b[0;34m(\u001b[0m\u001b[0mdtype\u001b[0m\u001b[0;34m.\u001b[0m\u001b[0mitemsize\u001b[0m \u001b[0;34m*\u001b[0m \u001b[0;36m8\u001b[0m\u001b[0;34m)\u001b[0m\u001b[0;34m\u001b[0m\u001b[0;34m\u001b[0m\u001b[0m\n\u001b[1;32m    337\u001b[0m \u001b[0;34m\u001b[0m\u001b[0m\n",
      "\u001b[0;32m/Library/Frameworks/Python.framework/Versions/3.9/lib/python3.9/site-packages/numpy/core/_dtype.py\u001b[0m in \u001b[0;36m_name_includes_bit_suffix\u001b[0;34m(dtype)\u001b[0m\n\u001b[1;32m    312\u001b[0m         \u001b[0;31m# implied\u001b[0m\u001b[0;34m\u001b[0m\u001b[0;34m\u001b[0m\u001b[0;34m\u001b[0m\u001b[0m\n\u001b[1;32m    313\u001b[0m         \u001b[0;32mreturn\u001b[0m \u001b[0;32mFalse\u001b[0m\u001b[0;34m\u001b[0m\u001b[0;34m\u001b[0m\u001b[0m\n\u001b[0;32m--> 314\u001b[0;31m     \u001b[0;32melif\u001b[0m \u001b[0mnp\u001b[0m\u001b[0;34m.\u001b[0m\u001b[0missubdtype\u001b[0m\u001b[0;34m(\u001b[0m\u001b[0mdtype\u001b[0m\u001b[0;34m,\u001b[0m \u001b[0mnp\u001b[0m\u001b[0;34m.\u001b[0m\u001b[0mflexible\u001b[0m\u001b[0;34m)\u001b[0m \u001b[0;32mand\u001b[0m \u001b[0m_isunsized\u001b[0m\u001b[0;34m(\u001b[0m\u001b[0mdtype\u001b[0m\u001b[0;34m)\u001b[0m\u001b[0;34m:\u001b[0m\u001b[0;34m\u001b[0m\u001b[0;34m\u001b[0m\u001b[0m\n\u001b[0m\u001b[1;32m    315\u001b[0m         \u001b[0;31m# unspecified\u001b[0m\u001b[0;34m\u001b[0m\u001b[0;34m\u001b[0m\u001b[0;34m\u001b[0m\u001b[0m\n\u001b[1;32m    316\u001b[0m         \u001b[0;32mreturn\u001b[0m \u001b[0;32mFalse\u001b[0m\u001b[0;34m\u001b[0m\u001b[0;34m\u001b[0m\u001b[0m\n",
      "\u001b[0;32m/Library/Frameworks/Python.framework/Versions/3.9/lib/python3.9/site-packages/numpy/core/numerictypes.py\u001b[0m in \u001b[0;36missubdtype\u001b[0;34m(arg1, arg2)\u001b[0m\n\u001b[1;32m    416\u001b[0m \u001b[0;34m\u001b[0m\u001b[0m\n\u001b[1;32m    417\u001b[0m     \"\"\"\n\u001b[0;32m--> 418\u001b[0;31m     \u001b[0;32mif\u001b[0m \u001b[0;32mnot\u001b[0m \u001b[0missubclass_\u001b[0m\u001b[0;34m(\u001b[0m\u001b[0marg1\u001b[0m\u001b[0;34m,\u001b[0m \u001b[0mgeneric\u001b[0m\u001b[0;34m)\u001b[0m\u001b[0;34m:\u001b[0m\u001b[0;34m\u001b[0m\u001b[0;34m\u001b[0m\u001b[0m\n\u001b[0m\u001b[1;32m    419\u001b[0m         \u001b[0marg1\u001b[0m \u001b[0;34m=\u001b[0m \u001b[0mdtype\u001b[0m\u001b[0;34m(\u001b[0m\u001b[0marg1\u001b[0m\u001b[0;34m)\u001b[0m\u001b[0;34m.\u001b[0m\u001b[0mtype\u001b[0m\u001b[0;34m\u001b[0m\u001b[0;34m\u001b[0m\u001b[0m\n\u001b[1;32m    420\u001b[0m     \u001b[0;32mif\u001b[0m \u001b[0;32mnot\u001b[0m \u001b[0missubclass_\u001b[0m\u001b[0;34m(\u001b[0m\u001b[0marg2\u001b[0m\u001b[0;34m,\u001b[0m \u001b[0mgeneric\u001b[0m\u001b[0;34m)\u001b[0m\u001b[0;34m:\u001b[0m\u001b[0;34m\u001b[0m\u001b[0;34m\u001b[0m\u001b[0m\n",
      "\u001b[0;32m/Library/Frameworks/Python.framework/Versions/3.9/lib/python3.9/site-packages/numpy/core/numerictypes.py\u001b[0m in \u001b[0;36missubclass_\u001b[0;34m(arg1, arg2)\u001b[0m\n\u001b[1;32m    322\u001b[0m         \u001b[0;32mreturn\u001b[0m \u001b[0missubclass\u001b[0m\u001b[0;34m(\u001b[0m\u001b[0marg1\u001b[0m\u001b[0;34m,\u001b[0m \u001b[0marg2\u001b[0m\u001b[0;34m)\u001b[0m\u001b[0;34m\u001b[0m\u001b[0;34m\u001b[0m\u001b[0m\n\u001b[1;32m    323\u001b[0m     \u001b[0;32mexcept\u001b[0m \u001b[0mTypeError\u001b[0m\u001b[0;34m:\u001b[0m\u001b[0;34m\u001b[0m\u001b[0;34m\u001b[0m\u001b[0m\n\u001b[0;32m--> 324\u001b[0;31m         \u001b[0;32mreturn\u001b[0m \u001b[0;32mFalse\u001b[0m\u001b[0;34m\u001b[0m\u001b[0;34m\u001b[0m\u001b[0m\n\u001b[0m\u001b[1;32m    325\u001b[0m \u001b[0;34m\u001b[0m\u001b[0m\n\u001b[1;32m    326\u001b[0m \u001b[0;34m\u001b[0m\u001b[0m\n",
      "\u001b[0;31mKeyboardInterrupt\u001b[0m: "
     ]
    }
   ],
   "source": [
    "BEST_ACTIVATION = LeakyRelu()\n",
    "BEST_LEARNING_RATE = 0.002\n",
    "BEST_BATCH_SIZE = 16\n",
    "EPOCHS = 25\n",
    "\n",
    "TRAINLOADER = Dataloader(data = pd.DataFrame(X_train), labels = pd.DataFrame(y_train),\n",
    "                             n_classes = 2, batch_size = BEST_BATCH_SIZE, shuffle = False)\n",
    "TESTLOADER = Dataloader(data = pd.DataFrame(X_test), labels = pd.DataFrame(y_test),\n",
    "                             n_classes = 2, batch_size = BEST_BATCH_SIZE, shuffle = False)\n",
    "\n",
    "network = FeedForwardNN(INPUT_SHAPE)\n",
    "network.add_layer(n_neurons = 16, activation = BEST_ACTIVATION, weight_initializer='uniform')\n",
    "network.add_layer(n_neurons = 2, activation = Identical(), weight_initializer='uniform')\n",
    "network.set_training_param(loss=CrossEntropy(), lr=BEST_LEARNING_RATE)\n",
    "\n",
    "best_log = network.fit(EPOCHS, TRAINLOADER, TESTLOADER)"
   ]
  },
  {
   "cell_type": "code",
   "execution_count": 51,
   "metadata": {
    "ExecuteTime": {
     "end_time": "2021-12-31T21:25:17.350886Z",
     "start_time": "2021-12-31T21:25:17.172417Z"
    }
   },
   "outputs": [
    {
     "data": {
      "image/png": "[encoded data removed]",
      "text/plain": [
       "<Figure size 576x396 with 1 Axes>"
      ]
     },
     "metadata": {},
     "output_type": "display_data"
    }
   ],
   "source": [
    "plt.plot(best_log['train_accuracy'], label='Train')\n",
    "plt.plot(best_log['test_accuracy'], label='Test')\n",
    "plt.xlabel(\"Epoch\")\n",
    "plt.ylabel(\"Accuracy\")\n",
    "plt.title(\"Best Combination!\")\n",
    "\n",
    "plt.legend()\n",
    "plt.show()"
   ]
  }
 ],
 "metadata": {
  "kernelspec": {
   "display_name": "Python 3 (ipykernel)",
   "language": "python",
   "name": "python3"
  },
  "language_info": {
   "codemirror_mode": {
    "name": "ipython",
    "version": 3
   },
   "file_extension": ".py",
   "mimetype": "text/x-python",
   "name": "python",
   "nbconvert_exporter": "python",
   "pygments_lexer": "ipython3",
   "version": "3.9.4"
  },
  "latex_envs": {
   "LaTeX_envs_menu_present": true,
   "autoclose": false,
   "autocomplete": true,
   "bibliofile": "biblio.bib",
   "cite_by": "apalike",
   "current_citInitial": 1,
   "eqLabelWithNumbers": true,
   "eqNumInitial": 1,
   "hotkeys": {
    "equation": "Ctrl-E",
    "itemize": "Ctrl-I"
   },
   "labels_anchors": false,
   "latex_user_defs": false,
   "report_style_numbering": false,
   "user_envs_cfg": false
  },
  "toc": {
   "base_numbering": 1,
   "nav_menu": {},
   "number_sections": true,
   "sideBar": true,
   "skip_h1_title": false,
   "title_cell": "Table of Contents",
   "title_sidebar": "Contents",
   "toc_cell": false,
   "toc_position": {},
   "toc_section_display": true,
   "toc_window_display": false
  },
  "varInspector": {
   "cols": {
    "lenName": 16,
    "lenType": 16,
    "lenVar": 40
   },
   "kernels_config": {
    "python": {
     "delete_cmd_postfix": "",
     "delete_cmd_prefix": "del ",
     "library": "var_list.py",
     "varRefreshCmd": "print(var_dic_list())"
    },
    "r": {
     "delete_cmd_postfix": ") ",
     "delete_cmd_prefix": "rm(",
     "library": "var_list.r",
     "varRefreshCmd": "cat(var_dic_list()) "
    }
   },
   "types_to_exclude": [
    "module",
    "function",
    "builtin_function_or_method",
    "instance",
    "_Feature"
   ],
   "window_display": false
  }
 },
 "nbformat": 4,
 "nbformat_minor": 4
}
